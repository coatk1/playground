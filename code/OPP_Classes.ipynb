{
 "cells": [
  {
   "cell_type": "markdown",
   "metadata": {},
   "source": [
    "# Classes and Object Oriented Programming\n",
    "\n",
    "* Objects hold variables/features (called properties) - such as eye color, or breed and functions/actions (called methods) - such as bark and eat.\n",
    "* Class -- or the blueprint from which that object is constructed by the computer, it describes the methods (functions) and properties (variables) that will exist in an object when it's created.\n",
    "* When we create an object of a class in memory, this is called instantiation or an instance of a class.\n",
    "* __init__/ constructor, describes how to create an object based on the blueprint provided by the class.\n",
    "* self is a keyword used in classes to refer to the specific object built from the class, keep track of its own properties, separate from any other object of the same class.\n",
    "* classes are groups of data and actions, data attached to classes are key-value pairs called Properties, and the actions that class can take are called Methods.\n",
    "* Scope and encapsulation can be thought as useful features that allow us to compartmentalize code instead of providing a measure of security. Prevent people from trying to access areas of memory that shouldn't be accessed or edited arbitrarily.\n",
    "* 'lexical/local scope' which means the values are only available from within that function.\n",
    "* 'global scope' which means we have access to that variables globally.\n",
    "* subclass and it will inherit everything from its superclass.\n",
    "* Polymorphism basically allows us to use different implementations of the same method.\n",
    "* Method overriding and it is a form of Polymorphism. It allows you to specify a different functionality for methods that are inherited from the superclass.\n",
    "* Aggregation does not inherit the class methods, but contains the class's objects.\n",
    "* Another way to think about it is that inheritance vs aggregation is \"isa\" vs. \"hasa\".\n",
    "\n",
    "Source: https://www.makeschool.com/academy/track/standalone/superhero-team-dueler/superhero-objects"
   ]
  },
  {
   "cell_type": "code",
   "execution_count": 1,
   "metadata": {},
   "outputs": [],
   "source": [
    "class Animal:\n",
    "    def __init__(self, name, sleep_time):\n",
    "        self.name = name\n",
    "        self.sleep_time = sleep_time\n",
    "\n",
    "    def sleep(self):\n",
    "        print(\"{} sleeps for {} hours\".format(self.name, self.sleep_time))\n",
    "    \n",
    "    def eat(self):\n",
    "        print(\"{} is eating\".format(self.name))\n",
    "\n",
    "    def drink(self):\n",
    "        print(\"{} is drinking\".format(self.name))"
   ]
  },
  {
   "cell_type": "code",
   "execution_count": 2,
   "metadata": {},
   "outputs": [],
   "source": [
    "class Frog(Animal):\n",
    "    def jump(self):\n",
    "        print(\"{} is jumping\".format(self.name))"
   ]
  },
  {
   "cell_type": "code",
   "execution_count": 3,
   "metadata": {},
   "outputs": [],
   "source": [
    "class Dog(Animal):\n",
    "\n",
    "    # Required properties are defined inside the __init__ constructor method\n",
    "#     def __init__(self, name, breed):\n",
    "#         \"\"\"Constructor.\n",
    "\n",
    "#         Properties.\n",
    "\n",
    "#         \"\"\"\n",
    "#         self.name = name\n",
    "#         self.breed = breed\n",
    "#         print(\"dog initialized!\")\n",
    "        \n",
    "    # Methods are defined as their own named functions inside the class\n",
    "    # Remember to put the \"self\" parameter every time we make a class method!\n",
    "    def bark(self):\n",
    "        \"\"\"Instance Methods.\"\"\"\n",
    "        # print(\"Woof!\")\n",
    "        sound = \"Woof!\"\n",
    "        return sound\n",
    "    \n",
    "    def sit(self):\n",
    "        \"\"\"Instance Methods.\"\"\"\n",
    "        sitting = \"Sitting...\"\n",
    "        return sitting\n",
    "    \n",
    "    def rollover(self):\n",
    "        \"\"\"Instance Methods.\"\"\"\n",
    "        roll = \"Play!\"\n",
    "        return roll"
   ]
  },
  {
   "cell_type": "code",
   "execution_count": 4,
   "metadata": {},
   "outputs": [],
   "source": [
    "# the same instantiation call that creates a Dog object,\n",
    "# but now we've assigned it to the value of the obj variable\n",
    "# obj = Dog('Bruce', 'Cocker Spaniel')\n",
    "obj = Dog('Bruce', 12)"
   ]
  },
  {
   "cell_type": "code",
   "execution_count": 5,
   "metadata": {},
   "outputs": [
    {
     "name": "stdout",
     "output_type": "stream",
     "text": [
      "Bruce sleeps for 12 hours\n"
     ]
    }
   ],
   "source": [
    "obj.sleep()"
   ]
  },
  {
   "cell_type": "code",
   "execution_count": 6,
   "metadata": {},
   "outputs": [
    {
     "name": "stdout",
     "output_type": "stream",
     "text": [
      "Sophie sleeps for 12 hours\n"
     ]
    }
   ],
   "source": [
    "a = Animal(\"Sophie\", 12)\n",
    "a.sleep()"
   ]
  },
  {
   "cell_type": "code",
   "execution_count": 7,
   "metadata": {},
   "outputs": [],
   "source": [
    "b = Frog('Jordan', 5)"
   ]
  },
  {
   "cell_type": "code",
   "execution_count": 8,
   "metadata": {},
   "outputs": [
    {
     "name": "stdout",
     "output_type": "stream",
     "text": [
      "Jordan is jumping\n"
     ]
    }
   ],
   "source": [
    "b.jump()"
   ]
  },
  {
   "cell_type": "code",
   "execution_count": null,
   "metadata": {},
   "outputs": [],
   "source": []
  }
 ],
 "metadata": {
  "kernelspec": {
   "display_name": "Python 3",
   "language": "python",
   "name": "python3"
  },
  "language_info": {
   "codemirror_mode": {
    "name": "ipython",
    "version": 3
   },
   "file_extension": ".py",
   "mimetype": "text/x-python",
   "name": "python",
   "nbconvert_exporter": "python",
   "pygments_lexer": "ipython3",
   "version": "3.7.6"
  }
 },
 "nbformat": 4,
 "nbformat_minor": 4
}
