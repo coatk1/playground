{
 "cells": [
  {
   "cell_type": "code",
   "execution_count": null,
   "id": "01619201",
   "metadata": {},
   "outputs": [],
   "source": [
    "# Standard Libraries\n",
    "import os\n",
    "import sys\n",
    "import glob\n",
    "\n",
    "# Third-party Libraries\n",
    "import spacy\n",
    "from tqdm.auto import tqdm\n",
    "from spacy.tokens import DocBin\n",
    "\n",
    "import en_core_web_sm\n",
    "\n",
    "# Use for importing code locally with jupyter notebooks (or when in another directory).\n",
    "MODULE_PATH = os.path.abspath(os.path.join(\"..\"))  # Use \"..\" when in notebooks dir or \"..\\\\..\" when in sub directory.\n",
    "\n",
    "if MODULE_PATH not in sys.path:\n",
    "    sys.path.append(MODULE_PATH)\n",
    "\n",
    "from modules import spacy_bins"
   ]
  },
  {
   "cell_type": "code",
   "execution_count": null,
   "id": "3e00a3ff",
   "metadata": {},
   "outputs": [],
   "source": [
    "CHUNK = 5"
   ]
  },
  {
   "cell_type": "code",
   "execution_count": null,
   "id": "49f2e779",
   "metadata": {},
   "outputs": [],
   "source": [
    "nlp = en_core_web_sm.load()\n",
    "nlp.max_length = 1000000"
   ]
  },
  {
   "cell_type": "code",
   "execution_count": null,
   "id": "0393a325",
   "metadata": {},
   "outputs": [],
   "source": [
    "spacy_path = os.path.join(\"C:\\\\Users\\\\catki\\\\Documents\\\\Projects\\\\data\\\\spacy_bins\")"
   ]
  },
  {
   "cell_type": "code",
   "execution_count": null,
   "id": "9f6b9a69",
   "metadata": {},
   "outputs": [],
   "source": [
    "bin_test_list = []\n",
    "bin_num = 20"
   ]
  },
  {
   "cell_type": "code",
   "execution_count": null,
   "id": "1773ec57",
   "metadata": {},
   "outputs": [],
   "source": [
    "for i in range(bin_num):\n",
    "    bin_test_list.append(\"This is {}\".format(i))"
   ]
  },
  {
   "cell_type": "code",
   "execution_count": null,
   "id": "29b7ced3",
   "metadata": {},
   "outputs": [],
   "source": [
    "text_to_nlp_1 = spacy_bins.create_bins(spacy_path, bin_test_list, nlp)"
   ]
  },
  {
   "cell_type": "code",
   "execution_count": null,
   "id": "020080b0",
   "metadata": {},
   "outputs": [],
   "source": [
    "# for i in DocBin().from_disk(glob.glob(spacy_path + \"\\\\*.spacy\")[0]).get_docs(nlp.vocab)"
   ]
  },
  {
   "cell_type": "code",
   "execution_count": null,
   "id": "ff365457",
   "metadata": {},
   "outputs": [],
   "source": [
    "text_to_nlp_2 = spacy_bins.get_bins(spacy_path, nlp)"
   ]
  },
  {
   "cell_type": "code",
   "execution_count": null,
   "id": "1b6d8601",
   "metadata": {},
   "outputs": [],
   "source": [
    "bin_test_list_updated = []\n",
    "bin_num_updated = 23"
   ]
  },
  {
   "cell_type": "code",
   "execution_count": null,
   "id": "943384a5",
   "metadata": {},
   "outputs": [],
   "source": [
    "for i in range(bin_num_updated):\n",
    "    bin_test_list_updated.append(\"This is {}\".format(i))"
   ]
  },
  {
   "cell_type": "code",
   "execution_count": null,
   "id": "861f03e6",
   "metadata": {},
   "outputs": [],
   "source": [
    "# Update spacy bins.\n",
    "if len(bin_test_list_updated) != len(text_to_nlp_2):\n",
    "    text_to_nlp_3 = spacy_bins.update_bins(spacy_path, bin_test_list_updated, nlp, text_to_nlp_2)"
   ]
  },
  {
   "cell_type": "code",
   "execution_count": null,
   "id": "ce58e694",
   "metadata": {},
   "outputs": [],
   "source": []
  }
 ],
 "metadata": {
  "kernelspec": {
   "display_name": "Python 3 (ipykernel)",
   "language": "python",
   "name": "python3"
  },
  "language_info": {
   "codemirror_mode": {
    "name": "ipython",
    "version": 3
   },
   "file_extension": ".py",
   "mimetype": "text/x-python",
   "name": "python",
   "nbconvert_exporter": "python",
   "pygments_lexer": "ipython3",
   "version": "3.10.12"
  }
 },
 "nbformat": 4,
 "nbformat_minor": 5
}
