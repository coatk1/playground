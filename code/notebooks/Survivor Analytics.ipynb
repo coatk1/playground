{
 "cells": [
  {
   "cell_type": "code",
   "execution_count": 1,
   "id": "0edabef1",
   "metadata": {
    "scrolled": true
   },
   "outputs": [],
   "source": [
    "# Standard Libraries\n",
    "import os\n",
    "import sys\n",
    "import datetime\n",
    "\n",
    "# Third-Party Libraries\n",
    "import pandas as pd\n",
    "from tqdm.auto import tqdm\n",
    "from sklearn.model_selection import train_test_split\n",
    "from sklearn.svm import SVC\n",
    "from sklearn.metrics import accuracy_score, classification_report\n",
    "\n",
    "tqdm.pandas()\n",
    "\n",
    "MODULE_PATH = os.path.abspath(r\"C:\\Users\\catki\\Documents\\Projects\\playground\\code\")\n",
    "\n",
    "if MODULE_PATH not in sys.path:\n",
    "    sys.path.append(MODULE_PATH)\n",
    "\n",
    "# Local Imports\n",
    "from modules.visualize import display_model_report, display_model_scores, display_multiclass_model_matrix"
   ]
  },
  {
   "cell_type": "markdown",
   "id": "be1b02da",
   "metadata": {},
   "source": [
    "https://www.kaggle.com/datasets/justinveiner/survivor-cbs-dataset"
   ]
  },
  {
   "cell_type": "code",
   "execution_count": null,
   "id": "e81636ae",
   "metadata": {},
   "outputs": [],
   "source": [
    "ZODIAC_NUM = 12\n",
    "\n",
    "def zodiac_sign(day, month): \n",
    "      \n",
    "    # checks month and date within the valid range \n",
    "    # of a specified zodiac \n",
    "    if month == 'december': \n",
    "        astro_sign = 'sagittarius' if (day < 22) else 'capricorn'\n",
    "          \n",
    "    elif month == 'january': \n",
    "        astro_sign = 'capricorn' if (day < 20) else 'aquarius'\n",
    "          \n",
    "    elif month == 'february': \n",
    "        astro_sign = 'aquarius' if (day < 19) else 'pisces'\n",
    "          \n",
    "    elif month == 'march': \n",
    "        astro_sign = 'pisces' if (day < 21) else 'aries'\n",
    "          \n",
    "    elif month == 'april': \n",
    "        astro_sign = 'aries' if (day < 20) else 'taurus'\n",
    "          \n",
    "    elif month == 'may': \n",
    "        astro_sign = 'taurus' if (day < 21) else 'gemini'\n",
    "          \n",
    "    elif month == 'june': \n",
    "        astro_sign = 'gemini' if (day < 21) else 'cancer'\n",
    "          \n",
    "    elif month == 'july': \n",
    "        astro_sign = 'cancer' if (day < 23) else 'leo'\n",
    "          \n",
    "    elif month == 'august': \n",
    "        astro_sign = 'leo' if (day < 23) else 'virgo'\n",
    "          \n",
    "    elif month == 'september': \n",
    "        astro_sign = 'virgo' if (day < 23) else 'libra'\n",
    "          \n",
    "    elif month == 'october': \n",
    "        astro_sign = 'libra' if (day < 23) else 'scorpio'\n",
    "          \n",
    "    elif month == 'november': \n",
    "        astro_sign = 'scorpio' if (day < 22) else 'sagittarius'\n",
    "          \n",
    "    # print(astro_sign)\n",
    "    return astro_sign"
   ]
  },
  {
   "cell_type": "code",
   "execution_count": null,
   "id": "56ab8442",
   "metadata": {},
   "outputs": [],
   "source": [
    "data_path = os.path.abspath(r\"C:\\Users\\catki\\Documents\\Projects\\data\\survivor_data\")"
   ]
  },
  {
   "cell_type": "code",
   "execution_count": null,
   "id": "f0ac3830",
   "metadata": {},
   "outputs": [],
   "source": [
    "contestant_file = os.path.join(data_path, \"contestant_table.csv\")\n",
    "season_file = os.path.join(data_path, \"season_table.csv\")\n",
    "tribe_file = os.path.join(data_path, \"tribe_table.csv\")"
   ]
  },
  {
   "cell_type": "code",
   "execution_count": null,
   "id": "b32f16fa",
   "metadata": {},
   "outputs": [],
   "source": [
    "if contestant_file.endswith(\"csv\"):\n",
    "    contestant_df = pd.read_csv(contestant_file)\n",
    "if contestant_file.endswith(\"xlsx\") or contestant_file.endswith(\"xls\"):\n",
    "    contestant_df = pd.read_excel(contestant_file)"
   ]
  },
  {
   "cell_type": "code",
   "execution_count": null,
   "id": "03f6cb7b",
   "metadata": {
    "scrolled": true
   },
   "outputs": [],
   "source": [
    "contestant_df.info()"
   ]
  },
  {
   "cell_type": "code",
   "execution_count": null,
   "id": "ba6e5e73",
   "metadata": {},
   "outputs": [],
   "source": [
    "contestant_df.head()"
   ]
  },
  {
   "cell_type": "code",
   "execution_count": null,
   "id": "5e00db0c",
   "metadata": {},
   "outputs": [],
   "source": [
    "contestant_df[\"birthdate_datetime\"] = contestant_df[\"birthdate\"].progress_apply(lambda x: datetime.datetime.strptime(x, \"%Y-%m-%d\"))"
   ]
  },
  {
   "cell_type": "code",
   "execution_count": null,
   "id": "e958c1ba",
   "metadata": {},
   "outputs": [],
   "source": [
    "contestant_df[\"zodiac\"] = contestant_df[\"birthdate_datetime\"].progress_apply(lambda x: zodiac_sign(x.day, x.strftime(\"%B\").lower()))"
   ]
  },
  {
   "cell_type": "code",
   "execution_count": null,
   "id": "1c043be1",
   "metadata": {
    "scrolled": true
   },
   "outputs": [],
   "source": [
    "won_df = contestant_df[contestant_df[\"finish\"] == 1]"
   ]
  },
  {
   "cell_type": "code",
   "execution_count": null,
   "id": "dc1b3cb5",
   "metadata": {
    "scrolled": true
   },
   "outputs": [],
   "source": [
    "won_df.info()"
   ]
  },
  {
   "cell_type": "code",
   "execution_count": null,
   "id": "bf54e28d",
   "metadata": {
    "scrolled": true
   },
   "outputs": [],
   "source": [
    "won_df"
   ]
  },
  {
   "cell_type": "code",
   "execution_count": null,
   "id": "6d74ec3b",
   "metadata": {
    "scrolled": true
   },
   "outputs": [],
   "source": [
    "# First to be voted off by zodiac\n",
    "contestant_df[contestant_df[\"finish\"] == 16].groupby(\"zodiac\")[\"finish\"].count().nlargest(ZODIAC_NUM)"
   ]
  },
  {
   "cell_type": "code",
   "execution_count": null,
   "id": "bcf770d4",
   "metadata": {},
   "outputs": [],
   "source": [
    "# Most contestants voted off by zodiac\n",
    "contestant_df.groupby(\"zodiac\")[\"num_boot\"].count().nlargest(ZODIAC_NUM)"
   ]
  },
  {
   "cell_type": "code",
   "execution_count": null,
   "id": "82f55b96",
   "metadata": {},
   "outputs": [],
   "source": [
    "# Wins by zodiac\n",
    "won_df.groupby(\"zodiac\")[\"finish\"].count().nlargest(ZODIAC_NUM)"
   ]
  },
  {
   "cell_type": "code",
   "execution_count": null,
   "id": "7151a3f3",
   "metadata": {
    "scrolled": true
   },
   "outputs": [],
   "source": [
    "won_df"
   ]
  },
  {
   "cell_type": "code",
   "execution_count": null,
   "id": "4bc9405c",
   "metadata": {},
   "outputs": [],
   "source": [
    "X = won_df[\"gender\"].tolist()"
   ]
  },
  {
   "cell_type": "code",
   "execution_count": null,
   "id": "41e98095",
   "metadata": {},
   "outputs": [],
   "source": [
    "y = won_df[\"gender\"].tolist()"
   ]
  },
  {
   "cell_type": "code",
   "execution_count": null,
   "id": "560e34ec",
   "metadata": {},
   "outputs": [],
   "source": [
    "X_train, X_test, y_train, y_test = train_test_split(X, y, train_size=0.7, random_state=42)"
   ]
  },
  {
   "cell_type": "code",
   "execution_count": null,
   "id": "00a29c72",
   "metadata": {},
   "outputs": [],
   "source": [
    "model = SVC()"
   ]
  },
  {
   "cell_type": "code",
   "execution_count": null,
   "id": "15df4ef6",
   "metadata": {},
   "outputs": [],
   "source": [
    "model.fit(X_train, y_train)"
   ]
  },
  {
   "cell_type": "code",
   "execution_count": null,
   "id": "d7292f5f",
   "metadata": {},
   "outputs": [],
   "source": [
    "y_pred = model.predict(X_test)"
   ]
  },
  {
   "cell_type": "code",
   "execution_count": null,
   "id": "08128417",
   "metadata": {},
   "outputs": [],
   "source": []
  },
  {
   "cell_type": "code",
   "execution_count": null,
   "id": "f6d5cb04",
   "metadata": {},
   "outputs": [],
   "source": []
  }
 ],
 "metadata": {
  "kernelspec": {
   "display_name": "Python 3 (ipykernel)",
   "language": "python",
   "name": "python3"
  },
  "language_info": {
   "codemirror_mode": {
    "name": "ipython",
    "version": 3
   },
   "file_extension": ".py",
   "mimetype": "text/x-python",
   "name": "python",
   "nbconvert_exporter": "python",
   "pygments_lexer": "ipython3",
   "version": "3.10.12"
  }
 },
 "nbformat": 4,
 "nbformat_minor": 5
}
