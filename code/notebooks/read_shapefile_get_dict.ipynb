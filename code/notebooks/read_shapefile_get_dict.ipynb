{
 "cells": [
  {
   "cell_type": "code",
   "execution_count": 10,
   "metadata": {},
   "outputs": [],
   "source": [
    "import shapefile\n",
    "import shapely.wkt\n",
    "from shapely.geometry import Polygon"
   ]
  },
  {
   "cell_type": "code",
   "execution_count": 11,
   "metadata": {},
   "outputs": [],
   "source": [
    "#load the shape file into a pyshp container. you can also pass this\n",
    "#the entire folder. \n",
    "#sf = shapefile.Reader(\"states_21basic/states.shp\")\n",
    "sf = shapefile.Reader(\"mygeodata/tester_panama-polygon.shp\")"
   ]
  },
  {
   "cell_type": "code",
   "execution_count": 12,
   "metadata": {},
   "outputs": [
    {
     "data": {
      "text/plain": [
       "[('DeletionFlag', 'C', 1, 0),\n",
       " ['Name', 'C', 80, 0],\n",
       " ['descriptio', 'C', 80, 0],\n",
       " ['tessellate', 'N', 9, 0]]"
      ]
     },
     "execution_count": 12,
     "metadata": {},
     "output_type": "execute_result"
    }
   ],
   "source": [
    "sf.fields"
   ]
  },
  {
   "cell_type": "code",
   "execution_count": 13,
   "metadata": {},
   "outputs": [],
   "source": [
    "#There is no standard name attribute so here again we are going\n",
    "#to need people to input the attribute name where its stored\n",
    "name = 'Name'"
   ]
  },
  {
   "cell_type": "code",
   "execution_count": 14,
   "metadata": {},
   "outputs": [],
   "source": [
    "#Shapefiles are based on some super old database standards. The schema\n",
    "#is stored separately from the actual values. Everything is stored in order\n",
    "#But there's no set order to those attributes. So we need to get the index\n",
    "#number for the name field. All shapefiles have a DeletionFlag item as a \n",
    "#tuple at the index 0 in the list, so we take the index number that the \n",
    "#name field is at and subtract 1.\n",
    "\n",
    "# if len(sf.fields) > 1:\n",
    "#     for field in sf.fields:\n",
    "#         if field[0] == name:\n",
    "#             index_num = sf.fields.index(field) - 1\n",
    "#         print(field)\n",
    "# else:\n",
    "#     print('Empty')\n",
    "    "
   ]
  },
  {
   "cell_type": "code",
   "execution_count": 15,
   "metadata": {},
   "outputs": [],
   "source": [
    "# Check for empty list. Use 1 to skip deletion flag\n",
    "if len(sf.fields) > 1:\n",
    "\n",
    "    # User iter to skip the deletion flag\n",
    "    shape_list = iter(sf.fields)\n",
    "    next(shape_list, None)\n",
    "    \n",
    "    # Enumerate list to assign index values. In this case we assume name is at index [0].\n",
    "    # If name cannot be found, ASSIGN CLUSTER NUMBER LIKE KML\n",
    "    for i, j in enumerate(shape_list):\n",
    "        if name.lower() in j[0].lower():\n",
    "            index_num = i        \n",
    "else:\n",
    "    print('Empty')"
   ]
  },
  {
   "cell_type": "code",
   "execution_count": 16,
   "metadata": {},
   "outputs": [],
   "source": [
    "record_geoms = []"
   ]
  },
  {
   "cell_type": "code",
   "execution_count": 17,
   "metadata": {
    "scrolled": true
   },
   "outputs": [
    {
     "name": "stdout",
     "output_type": "stream",
     "text": [
      "Record #0: ['panama_city', '', 1]\n",
      "Record #1: ['panama_island1', '', 1]\n",
      "Record #2: ['panama_island2', '', 1]\n"
     ]
    }
   ],
   "source": [
    "for record in sf.shapeRecords():\n",
    "    #record_poly = Polygon(record.shape.points)\n",
    "    #record_wkt = record_poly.wkt\n",
    "    record_wkt = Polygon(record.shape.points).wkt\n",
    "    #record_name = record.record[index_num]\n",
    "    print(record.record)\n",
    "    record_name = record.record[index_num]\n",
    "    record_geoms.append({'name':record_name,'wkt':record_wkt})"
   ]
  },
  {
   "cell_type": "code",
   "execution_count": 18,
   "metadata": {},
   "outputs": [
    {
     "data": {
      "text/plain": [
       "[{'name': 'panama_city',\n",
       "  'wkt': 'POLYGON ((-79.57362208192902 8.965979369000818, -79.57138002126871 8.992357613052613, -79.45041084731457 9.111922246393004, -79.360402915506 9.132611118726665, -79.3299527530753 9.084375616273556, -79.39916610324168 9.032353030808853, -79.54548899568398 8.925382776699692, -79.57362208192902 8.965979369000818))'},\n",
       " {'name': 'panama_island1',\n",
       "  'wkt': 'POLYGON ((-79.10691419792768 8.959397088547739, -79.1058502333228 8.938284495156219, -79.10934930801517 8.931014826678171, -79.11425172642772 8.927205209269012, -79.12616171016165 8.924083612240267, -79.13246938828297 8.925464216815737, -79.14088051427903 8.927535779250954, -79.14649191555516 8.933762465952352, -79.14929888714715 8.937914399349699, -79.15000537229564 8.944836824712707, -79.1524702420638 8.95798996748068, -79.15247811684935 8.966991005935137, -79.14512462460698 8.975303695407185, -79.13531273087068 8.977731808095369, -79.12304518129827 8.976698241884197, -79.11603457212546 8.974278010317004, -79.10691419792768 8.959397088547739))'},\n",
       " {'name': 'panama_island2',\n",
       "  'wkt': 'POLYGON ((-79.61495132142859 8.556272620728603, -79.63041326521967 8.586429935317941, -79.62858999628392 8.603200357790502, -79.62398734389245 8.617232194369089, -79.6153679136533 8.627000432794752, -79.60025706773587 8.627322067650605, -79.58112621329489 8.617891226137573, -79.57525779886784 8.609971116477743, -79.57184956820474 8.59686671761283, -79.56782822860895 8.585898379728269, -79.5675037053896 8.573097565115036, -79.56872106639945 8.560904937840984, -79.57826735025913 8.554492591234443, -79.58997490619417 8.550820041879728, -79.61495132142859 8.556272620728603))'}]"
      ]
     },
     "execution_count": 18,
     "metadata": {},
     "output_type": "execute_result"
    }
   ],
   "source": [
    "record_geoms"
   ]
  },
  {
   "cell_type": "code",
   "execution_count": null,
   "metadata": {},
   "outputs": [],
   "source": []
  }
 ],
 "metadata": {
  "kernelspec": {
   "display_name": "Python 3",
   "language": "python",
   "name": "python3"
  }
 },
 "nbformat": 4,
 "nbformat_minor": 4
}
