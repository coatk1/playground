{
 "cells": [
  {
   "cell_type": "markdown",
   "metadata": {},
   "source": [
    "# Logging\n",
    "\n",
    "Source(s):\n",
    "* https://realpython.com/python-logging/\n",
    "* https://docs.python.org/3/library/logging.html#logrecord-attributes"
   ]
  },
  {
   "cell_type": "code",
   "execution_count": 1,
   "metadata": {},
   "outputs": [],
   "source": [
    "import logging"
   ]
  },
  {
   "cell_type": "code",
   "execution_count": 2,
   "metadata": {},
   "outputs": [],
   "source": [
    "# Create a custom logger\n",
    "logger = logging.getLogger(__name__)"
   ]
  },
  {
   "cell_type": "code",
   "execution_count": 3,
   "metadata": {},
   "outputs": [],
   "source": [
    "# Create handlers\n",
    "# c_handler = logging.StreamHandler()\n",
    "# f_handler = logging.FileHandler('app.log')\n",
    "# c_handler.setLevel(logging.WARNING)\n",
    "# f_handler.setLevel(logging.ERROR)"
   ]
  },
  {
   "cell_type": "code",
   "execution_count": 4,
   "metadata": {},
   "outputs": [],
   "source": [
    "# Create formatters and add it to handlers\n",
    "# c_format = logging.Formatter('%(name)s - %(levelname)s - %(message)s')\n",
    "# f_format = logging.Formatter('%(asctime)s - %(name)s - %(levelname)s - %(message)s')\n",
    "# c_handler.setFormatter(c_format)\n",
    "# f_handler.setFormatter(f_format)"
   ]
  },
  {
   "cell_type": "code",
   "execution_count": 5,
   "metadata": {},
   "outputs": [],
   "source": [
    "# Add handlers to the logger\n",
    "# logger.addHandler(c_handler)\n",
    "# logger.addHandler(f_handler)"
   ]
  },
  {
   "cell_type": "code",
   "execution_count": 6,
   "metadata": {},
   "outputs": [],
   "source": [
    "# logger.warning('This is a warning')\n",
    "# logger.error('This is an error')"
   ]
  },
  {
   "cell_type": "code",
   "execution_count": 7,
   "metadata": {},
   "outputs": [],
   "source": [
    "name = 'John'\n",
    "log_file = 'app.log'\n",
    "log_level = logging.DEBUG\n",
    "\n",
    "logging.basicConfig(filename=log_file,\n",
    "                    filemode='w',\n",
    "                    format='%(asctime)s - %(name)s - %(levelname)s - %(message)s',\n",
    "                    datefmt='%d-%b-%Y %H:%M:%S',\n",
    "                    level=log_level\n",
    "                   )  # Can only be called once"
   ]
  },
  {
   "cell_type": "code",
   "execution_count": 8,
   "metadata": {},
   "outputs": [],
   "source": [
    "a = 5\n",
    "b = 0\n",
    "\n",
    "try:\n",
    "    c = a / b\n",
    "except ZeroDivisionError as z:\n",
    "    logger.error(\"Exception occurred\", exc_info=True)"
   ]
  },
  {
   "cell_type": "code",
   "execution_count": 9,
   "metadata": {},
   "outputs": [],
   "source": [
    "a = '1'\n",
    "b = 1\n",
    "\n",
    "try:\n",
    "    c = a + b\n",
    "except TypeError as t:\n",
    "    logger.exception(\"Cannot add incompatible types\")  # Only shows ERROR level"
   ]
  },
  {
   "cell_type": "code",
   "execution_count": 10,
   "metadata": {},
   "outputs": [],
   "source": [
    "logger.debug('This is an debug message')\n",
    "logger.info('{}, this info will get logged'.format(name))\n",
    "logger.warning('This is a warning message')\n",
    "logger.error('This is an error message')\n",
    "logger.critical('This is a critical message')"
   ]
  },
  {
   "cell_type": "code",
   "execution_count": null,
   "metadata": {},
   "outputs": [],
   "source": []
  }
 ],
 "metadata": {
  "kernelspec": {
   "display_name": "Python 3 (ipykernel)",
   "language": "python",
   "name": "python3"
  },
  "language_info": {
   "codemirror_mode": {
    "name": "ipython",
    "version": 3
   },
   "file_extension": ".py",
   "mimetype": "text/x-python",
   "name": "python",
   "nbconvert_exporter": "python",
   "pygments_lexer": "ipython3",
   "version": "3.10.12"
  }
 },
 "nbformat": 4,
 "nbformat_minor": 2
}
