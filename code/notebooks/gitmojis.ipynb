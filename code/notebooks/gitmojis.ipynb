{
 "cells": [
  {
   "cell_type": "code",
   "execution_count": null,
   "metadata": {},
   "outputs": [],
   "source": [
    "# Source: https://github.com/carloscuesta/gitmoji/blob/master/packages/gitmojis/src/gitmojis.json"
   ]
  },
  {
   "cell_type": "code",
   "execution_count": null,
   "metadata": {},
   "outputs": [],
   "source": [
    "# Standard Libraries\n",
    "import os\n",
    "import sys\n",
    "import json\n",
    "\n",
    "# Third-party Libraries\n",
    "import pandas as pd\n",
    "\n",
    "# Use for importing code locally with jupyter notebooks (or when in another directory).\n",
    "MODULE_PATH = os.path.abspath(os.path.join(\"..\"))  # Use \"..\" when in notebooks dir or \"..\\\\..\" when in sub directory.\n",
    "\n",
    "if MODULE_PATH not in sys.path:\n",
    "    sys.path.append(MODULE_PATH)\n",
    "\n",
    "# Local Imports\n",
    "from modules.utils import get_leaves, pandas_df_to_markdown_table"
   ]
  },
  {
   "cell_type": "code",
   "execution_count": null,
   "metadata": {},
   "outputs": [],
   "source": [
    "file = \"gitmojis.json\""
   ]
  },
  {
   "cell_type": "code",
   "execution_count": null,
   "metadata": {},
   "outputs": [],
   "source": [
    "df = pd.read_json(file, orient=\"columns\")"
   ]
  },
  {
   "cell_type": "code",
   "execution_count": null,
   "metadata": {},
   "outputs": [],
   "source": [
    "df[\"gitmojis\"]"
   ]
  },
  {
   "cell_type": "code",
   "execution_count": null,
   "metadata": {},
   "outputs": [],
   "source": [
    "stored = []\n",
    "\n",
    "for i, j in df.iterrows():\n",
    "\n",
    "    # Get the keys from the nested dictionaries.\n",
    "    cleaned_data = get_leaves(j[\"gitmojis\"])\n",
    "    cleaned_data[\"code\"] = \"`{}`\".format(cleaned_data[\"code\"])\n",
    "\n",
    "    # Convert dictionary to a DataFrame and append to list.\n",
    "    stored.append(pd.json_normalize(cleaned_data))"
   ]
  },
  {
   "cell_type": "code",
   "execution_count": null,
   "metadata": {},
   "outputs": [],
   "source": [
    "# df[\"gitmojis\"].apply(lambda x: list(pd.json_normalize(get_leaves(x))))"
   ]
  },
  {
   "cell_type": "code",
   "execution_count": null,
   "metadata": {},
   "outputs": [],
   "source": [
    "full_df = pd.concat(stored, ignore_index=True, sort=False)"
   ]
  },
  {
   "cell_type": "code",
   "execution_count": null,
   "metadata": {},
   "outputs": [],
   "source": [
    "new_df = pandas_df_to_markdown_table(full_df)"
   ]
  },
  {
   "cell_type": "code",
   "execution_count": null,
   "metadata": {},
   "outputs": [],
   "source": [
    "new_df.to_excel(\"gitmojis.xlsx\", index=False)"
   ]
  },
  {
   "cell_type": "code",
   "execution_count": null,
   "metadata": {},
   "outputs": [],
   "source": [
    "full_df.to_markdown(\"gitmojis.md\", index=False)"
   ]
  },
  {
   "cell_type": "code",
   "execution_count": null,
   "metadata": {},
   "outputs": [],
   "source": []
  }
 ],
 "metadata": {
  "kernelspec": {
   "display_name": "Python 3 (ipykernel)",
   "language": "python",
   "name": "python3"
  },
  "language_info": {
   "codemirror_mode": {
    "name": "ipython",
    "version": 3
   },
   "file_extension": ".py",
   "mimetype": "text/x-python",
   "name": "python",
   "nbconvert_exporter": "python",
   "pygments_lexer": "ipython3",
   "version": "3.10.12"
  }
 },
 "nbformat": 4,
 "nbformat_minor": 2
}
