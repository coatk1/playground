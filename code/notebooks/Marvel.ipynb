{
 "cells": [
  {
   "cell_type": "code",
   "execution_count": null,
   "metadata": {},
   "outputs": [],
   "source": [
    "# Standard Libraries\n",
    "import os\n",
    "import glob\n",
    "import json\n",
    "import getpass\n",
    "import pathlib\n",
    "\n",
    "# Third-party Libraries\n",
    "import pandas as pd"
   ]
  },
  {
   "cell_type": "code",
   "execution_count": null,
   "metadata": {},
   "outputs": [],
   "source": [
    "# Standard Libraries\n",
    "import re\n",
    "import base64\n",
    "import urllib\n",
    "import hashlib\n",
    "import requests\n",
    "import traceback\n",
    "\n",
    "# Third-party Libraries\n",
    "# import pprint\n",
    "# import xmltodict\n",
    "# import elasticsearch\n",
    "# from io import StringIO\n",
    "# from bs4 import BeautifulSoup, SoupStrainer"
   ]
  },
  {
   "cell_type": "code",
   "execution_count": null,
   "metadata": {},
   "outputs": [],
   "source": [
    "# Home drive\n",
    "HOME_DRIVE = str(pathlib.Path.home())\n",
    "\n",
    "# Paths\n",
    "OTHER_DRIVE = \"C:\\\\\"\n",
    "# ext = \"csv\"\n",
    "\n",
    "some_path = \"Documents\\\\Projects\"\n",
    "pub = os.path.join(HOME_DRIVE, some_path + \"\\\\pub.txt\")\n",
    "key = os.path.join(HOME_DRIVE, some_path + \"\\\\key.txt\")\n",
    "# wp = getpass.getpass(\"Enter: \")\n",
    "\n",
    "# full_path = glob.glob(\"{}\\\\*.{}\".format(path, ext))\n",
    "# os.path.isfile(full_path)"
   ]
  },
  {
   "cell_type": "code",
   "execution_count": null,
   "metadata": {},
   "outputs": [],
   "source": [
    "# Read in a file\n",
    "with open(pub, \"r\") as f:\n",
    "    p = f.read()\n",
    "\n",
    "with open(key, \"r\") as f:\n",
    "    k = f.read()\n",
    "\n",
    "cleaned_pub = re.sub(\"\\n\", \"\", p)\n",
    "cleaned_key = re.sub(\"\\n\", \"\", k)"
   ]
  },
  {
   "cell_type": "code",
   "execution_count": null,
   "metadata": {},
   "outputs": [],
   "source": [
    "# Source: https://developer.marvel.com/docs\n",
    "# https://developer.marvel.com/documentation/authorization\n",
    "\n",
    "keywords = \"characters\"\n",
    "\n",
    "# Use urllib to parse query string. Helps to reformat in url parameters in a friendly way.\n",
    "query = urllib.parse.quote_plus(keywords)\n",
    "\n",
    "api = \"https://gateway.marvel.com:443/v1/public/\"\n",
    "key = \"apikey={}\".format(cleaned_pub)\n",
    "ts = \"1\"\n",
    "# str2hash = ts + cleaned_pub + cleaned_key\n",
    "hs = hashlib.md5((ts + cleaned_pub + cleaned_key).encode()).digest()\n",
    "\n",
    "url = api + query + \"?\" + key + \"&ts=\" + ts + \"&hash=\" + str(hs)\n",
    "\n",
    "# request_body = {\n",
    "#     # \"apikey\": \"7fdb48ccadd39e7795fea9e70070bc96\",\n",
    "#     \"ts\": \"a timestamp\",\n",
    "#     \"hash\": \"hash\"\n",
    "# }\n",
    "url"
   ]
  },
  {
   "cell_type": "code",
   "execution_count": null,
   "metadata": {},
   "outputs": [],
   "source": [
    "hs = hashlib.md5((ts + cleaned_pub + cleaned_key).encode()).digest()\n",
    "str(hs)"
   ]
  },
  {
   "cell_type": "code",
   "execution_count": null,
   "metadata": {},
   "outputs": [],
   "source": [
    "session = requests.Session()\n",
    "\n",
    "try:\n",
    "    \n",
    "    # Disable urllib warning\n",
    "    requests.packages.urllib3.disable_warnings(\n",
    "        requests.packages.urllib3.exceptions.SecurityWarning\n",
    "    )\n",
    "    \n",
    "    request = session.get(url, headers={\"content-type\": \"application/json\"})\n",
    "#     request = session.post(\n",
    "#         url,\n",
    "#         # cert=(cer,key),\n",
    "#         # json=request_body,\n",
    "#         headers={\"content-type\": \"application/json\"},\n",
    "#         verify=False,\n",
    "#         allow_redirects=False,\n",
    "#         stream=True,\n",
    "#     )\n",
    "except Exception as e:\n",
    "    traceback.print_exc()\n",
    "    print(type(e))\n",
    "    print(e)"
   ]
  },
  {
   "cell_type": "code",
   "execution_count": null,
   "metadata": {},
   "outputs": [],
   "source": [
    "request.json()"
   ]
  },
  {
   "cell_type": "code",
   "execution_count": null,
   "metadata": {},
   "outputs": [],
   "source": [
    "# Source: https://github.com/fhightower/html-to-json/blob/main/html_to_json/convert_html.py\n",
    "\n",
    "# HTML\n",
    "if \"HTML\" in requests.text:\n",
    "    json_data = convert_html.convert(requests.text)\n",
    "\n",
    "# XML\n",
    "elif \"xml\" in requests.text:\n",
    "    json_string = json.dumps(xmltodict.parse(requests.text))\n",
    "    json_data = json.loads(json_string)\n",
    "    \n",
    "else:\n",
    "    json_data = request.json()\n",
    "    # json_data = json.loads(requests.text)\n",
    "\n",
    "json_data"
   ]
  },
  {
   "cell_type": "code",
   "execution_count": null,
   "metadata": {},
   "outputs": [],
   "source": []
  },
  {
   "cell_type": "code",
   "execution_count": null,
   "metadata": {},
   "outputs": [],
   "source": []
  }
 ],
 "metadata": {
  "kernelspec": {
   "display_name": "Python 3",
   "language": "python",
   "name": "python3"
  },
  "language_info": {
   "codemirror_mode": {
    "name": "ipython",
    "version": 3
   },
   "file_extension": ".py",
   "mimetype": "text/x-python",
   "name": "python",
   "nbconvert_exporter": "python",
   "pygments_lexer": "ipython3",
   "version": "3.7.6"
  }
 },
 "nbformat": 4,
 "nbformat_minor": 4
}
