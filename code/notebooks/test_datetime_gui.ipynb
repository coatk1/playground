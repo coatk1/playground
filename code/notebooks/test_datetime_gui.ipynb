{
 "cells": [
  {
   "cell_type": "code",
   "execution_count": 4,
   "metadata": {},
   "outputs": [],
   "source": [
    "import os\n",
    "import pathlib"
   ]
  },
  {
   "cell_type": "code",
   "execution_count": 17,
   "metadata": {},
   "outputs": [
    {
     "data": {
      "text/plain": [
       "WindowsPath('C:/Users/Corey')"
      ]
     },
     "execution_count": 17,
     "metadata": {},
     "output_type": "execute_result"
    }
   ],
   "source": [
    "homedir = pathlib.Path.home()\n",
    "homedir"
   ]
  },
  {
   "cell_type": "code",
   "execution_count": 27,
   "metadata": {},
   "outputs": [
    {
     "data": {
      "text/plain": [
       "'C:\\\\Users\\\\Corey\\\\Documents\\\\Projects\\\\avengers.csv'"
      ]
     },
     "execution_count": 27,
     "metadata": {},
     "output_type": "execute_result"
    }
   ],
   "source": [
    "os.path.join(pathlib.Path.cwd(), 'avengers.csv')"
   ]
  },
  {
   "cell_type": "code",
   "execution_count": 29,
   "metadata": {},
   "outputs": [],
   "source": [
    "# str(path.relative_to(homedir))"
   ]
  },
  {
   "cell_type": "code",
   "execution_count": 10,
   "metadata": {},
   "outputs": [
    {
     "data": {
      "text/plain": [
       "'C:\\\\Users\\\\Corey\\\\Documents\\\\Projects\\\\avengers.csv'"
      ]
     },
     "execution_count": 10,
     "metadata": {},
     "output_type": "execute_result"
    }
   ],
   "source": [
    "os.path.abspath('avengers.csv')"
   ]
  },
  {
   "cell_type": "code",
   "execution_count": 1,
   "metadata": {},
   "outputs": [
    {
     "output_type": "execute_result",
     "data": {
      "text/plain": [
       "                                                   URL  \\\n",
       "0        http://marvel.wikia.com/Henry_Pym_(Earth-616)   \n",
       "1    http://marvel.wikia.com/Janet_van_Dyne_(Earth-...   \n",
       "2    http://marvel.wikia.com/Anthony_Stark_(Earth-616)   \n",
       "3    http://marvel.wikia.com/Robert_Bruce_Banner_(E...   \n",
       "4     http://marvel.wikia.com/Thor_Odinson_(Earth-616)   \n",
       "..                                                 ...   \n",
       "168   http://marvel.wikia.com/Eric_Brooks_(Earth-616)#   \n",
       "169  http://marvel.wikia.com/Adam_Brashear_(Earth-6...   \n",
       "170  http://marvel.wikia.com/Victor_Alvarez_(Earth-...   \n",
       "171     http://marvel.wikia.com/Ava_Ayala_(Earth-616)#   \n",
       "172         http://marvel.wikia.com/Kaluu_(Earth-616)#   \n",
       "\n",
       "                      Name/Alias  Appearances Current?  Gender  \\\n",
       "0      Henry Jonathan \"Hank\" Pym         1269      YES    MALE   \n",
       "1                 Janet van Dyne         1165      YES  FEMALE   \n",
       "2    Anthony Edward \"Tony\" Stark         3068      YES    MALE   \n",
       "3            Robert Bruce Banner         2089      YES    MALE   \n",
       "4                   Thor Odinson         2402      YES    MALE   \n",
       "..                           ...          ...      ...     ...   \n",
       "168                  Eric Brooks          198      YES    MALE   \n",
       "169                Adam Brashear           29      YES    MALE   \n",
       "170               Victor Alvarez           45      YES    MALE   \n",
       "171                    Ava Ayala           49      YES  FEMALE   \n",
       "172                        Kaluu           35      YES    MALE   \n",
       "\n",
       "    Probationary Introl Full/Reserve Avengers Intro  Year  \\\n",
       "0                   NaT                  1963-09-01  1963   \n",
       "1                   NaT                  1963-09-01  1963   \n",
       "2                   NaT                  1963-09-01  1963   \n",
       "3                   NaT                  1963-09-01  1963   \n",
       "4                   NaT                  1963-09-01  1963   \n",
       "..                  ...                         ...   ...   \n",
       "168                 NaT                  2020-11-13  2013   \n",
       "169                 NaT                  2020-01-14  2014   \n",
       "170                 NaT                  2020-01-14  2014   \n",
       "171                 NaT                  2020-01-14  2014   \n",
       "172                 NaT                  2020-01-15  2015   \n",
       "\n",
       "     Years since joining Honorary  ... Return1 Death2 Return2 Death3 Return3  \\\n",
       "0                     52     Full  ...      NO    NaN     NaN    NaN     NaN   \n",
       "1                     52     Full  ...     YES    NaN     NaN    NaN     NaN   \n",
       "2                     52     Full  ...     YES    NaN     NaN    NaN     NaN   \n",
       "3                     52     Full  ...     YES    NaN     NaN    NaN     NaN   \n",
       "4                     52     Full  ...     YES    YES      NO    NaN     NaN   \n",
       "..                   ...      ...  ...     ...    ...     ...    ...     ...   \n",
       "168                    2     Full  ...     NaN    NaN     NaN    NaN     NaN   \n",
       "169                    1     Full  ...     NaN    NaN     NaN    NaN     NaN   \n",
       "170                    1     Full  ...     NaN    NaN     NaN    NaN     NaN   \n",
       "171                    1     Full  ...     NaN    NaN     NaN    NaN     NaN   \n",
       "172                    0     Full  ...     NaN    NaN     NaN    NaN     NaN   \n",
       "\n",
       "    Death4 Return4 Death5 Return5  \\\n",
       "0      NaN     NaN    NaN     NaN   \n",
       "1      NaN     NaN    NaN     NaN   \n",
       "2      NaN     NaN    NaN     NaN   \n",
       "3      NaN     NaN    NaN     NaN   \n",
       "4      NaN     NaN    NaN     NaN   \n",
       "..     ...     ...    ...     ...   \n",
       "168    NaN     NaN    NaN     NaN   \n",
       "169    NaN     NaN    NaN     NaN   \n",
       "170    NaN     NaN    NaN     NaN   \n",
       "171    NaN     NaN    NaN     NaN   \n",
       "172    NaN     NaN    NaN     NaN   \n",
       "\n",
       "                                                 Notes  \n",
       "0    Merged with Ultron in Rage of Ultron Vol. 1. A...  \n",
       "1    Dies in Secret Invasion V1:I8. Actually was se...  \n",
       "2    Death: \"Later while under the influence of Imm...  \n",
       "3    Dies in Ghosts of the Future arc. However \"he ...  \n",
       "4    Dies in Fear Itself brought back because that'...  \n",
       "..                                                 ...  \n",
       "168                                                NaN  \n",
       "169                                                NaN  \n",
       "170                                                NaN  \n",
       "171                                                NaN  \n",
       "172                                                NaN  \n",
       "\n",
       "[173 rows x 21 columns]"
      ],
      "text/html": "<div>\n<style scoped>\n    .dataframe tbody tr th:only-of-type {\n        vertical-align: middle;\n    }\n\n    .dataframe tbody tr th {\n        vertical-align: top;\n    }\n\n    .dataframe thead th {\n        text-align: right;\n    }\n</style>\n<table border=\"1\" class=\"dataframe\">\n  <thead>\n    <tr style=\"text-align: right;\">\n      <th></th>\n      <th>URL</th>\n      <th>Name/Alias</th>\n      <th>Appearances</th>\n      <th>Current?</th>\n      <th>Gender</th>\n      <th>Probationary Introl</th>\n      <th>Full/Reserve Avengers Intro</th>\n      <th>Year</th>\n      <th>Years since joining</th>\n      <th>Honorary</th>\n      <th>...</th>\n      <th>Return1</th>\n      <th>Death2</th>\n      <th>Return2</th>\n      <th>Death3</th>\n      <th>Return3</th>\n      <th>Death4</th>\n      <th>Return4</th>\n      <th>Death5</th>\n      <th>Return5</th>\n      <th>Notes</th>\n    </tr>\n  </thead>\n  <tbody>\n    <tr>\n      <th>0</th>\n      <td>http://marvel.wikia.com/Henry_Pym_(Earth-616)</td>\n      <td>Henry Jonathan \"Hank\" Pym</td>\n      <td>1269</td>\n      <td>YES</td>\n      <td>MALE</td>\n      <td>NaT</td>\n      <td>1963-09-01</td>\n      <td>1963</td>\n      <td>52</td>\n      <td>Full</td>\n      <td>...</td>\n      <td>NO</td>\n      <td>NaN</td>\n      <td>NaN</td>\n      <td>NaN</td>\n      <td>NaN</td>\n      <td>NaN</td>\n      <td>NaN</td>\n      <td>NaN</td>\n      <td>NaN</td>\n      <td>Merged with Ultron in Rage of Ultron Vol. 1. A...</td>\n    </tr>\n    <tr>\n      <th>1</th>\n      <td>http://marvel.wikia.com/Janet_van_Dyne_(Earth-...</td>\n      <td>Janet van Dyne</td>\n      <td>1165</td>\n      <td>YES</td>\n      <td>FEMALE</td>\n      <td>NaT</td>\n      <td>1963-09-01</td>\n      <td>1963</td>\n      <td>52</td>\n      <td>Full</td>\n      <td>...</td>\n      <td>YES</td>\n      <td>NaN</td>\n      <td>NaN</td>\n      <td>NaN</td>\n      <td>NaN</td>\n      <td>NaN</td>\n      <td>NaN</td>\n      <td>NaN</td>\n      <td>NaN</td>\n      <td>Dies in Secret Invasion V1:I8. Actually was se...</td>\n    </tr>\n    <tr>\n      <th>2</th>\n      <td>http://marvel.wikia.com/Anthony_Stark_(Earth-616)</td>\n      <td>Anthony Edward \"Tony\" Stark</td>\n      <td>3068</td>\n      <td>YES</td>\n      <td>MALE</td>\n      <td>NaT</td>\n      <td>1963-09-01</td>\n      <td>1963</td>\n      <td>52</td>\n      <td>Full</td>\n      <td>...</td>\n      <td>YES</td>\n      <td>NaN</td>\n      <td>NaN</td>\n      <td>NaN</td>\n      <td>NaN</td>\n      <td>NaN</td>\n      <td>NaN</td>\n      <td>NaN</td>\n      <td>NaN</td>\n      <td>Death: \"Later while under the influence of Imm...</td>\n    </tr>\n    <tr>\n      <th>3</th>\n      <td>http://marvel.wikia.com/Robert_Bruce_Banner_(E...</td>\n      <td>Robert Bruce Banner</td>\n      <td>2089</td>\n      <td>YES</td>\n      <td>MALE</td>\n      <td>NaT</td>\n      <td>1963-09-01</td>\n      <td>1963</td>\n      <td>52</td>\n      <td>Full</td>\n      <td>...</td>\n      <td>YES</td>\n      <td>NaN</td>\n      <td>NaN</td>\n      <td>NaN</td>\n      <td>NaN</td>\n      <td>NaN</td>\n      <td>NaN</td>\n      <td>NaN</td>\n      <td>NaN</td>\n      <td>Dies in Ghosts of the Future arc. However \"he ...</td>\n    </tr>\n    <tr>\n      <th>4</th>\n      <td>http://marvel.wikia.com/Thor_Odinson_(Earth-616)</td>\n      <td>Thor Odinson</td>\n      <td>2402</td>\n      <td>YES</td>\n      <td>MALE</td>\n      <td>NaT</td>\n      <td>1963-09-01</td>\n      <td>1963</td>\n      <td>52</td>\n      <td>Full</td>\n      <td>...</td>\n      <td>YES</td>\n      <td>YES</td>\n      <td>NO</td>\n      <td>NaN</td>\n      <td>NaN</td>\n      <td>NaN</td>\n      <td>NaN</td>\n      <td>NaN</td>\n      <td>NaN</td>\n      <td>Dies in Fear Itself brought back because that'...</td>\n    </tr>\n    <tr>\n      <th>...</th>\n      <td>...</td>\n      <td>...</td>\n      <td>...</td>\n      <td>...</td>\n      <td>...</td>\n      <td>...</td>\n      <td>...</td>\n      <td>...</td>\n      <td>...</td>\n      <td>...</td>\n      <td>...</td>\n      <td>...</td>\n      <td>...</td>\n      <td>...</td>\n      <td>...</td>\n      <td>...</td>\n      <td>...</td>\n      <td>...</td>\n      <td>...</td>\n      <td>...</td>\n      <td>...</td>\n    </tr>\n    <tr>\n      <th>168</th>\n      <td>http://marvel.wikia.com/Eric_Brooks_(Earth-616)#</td>\n      <td>Eric Brooks</td>\n      <td>198</td>\n      <td>YES</td>\n      <td>MALE</td>\n      <td>NaT</td>\n      <td>2020-11-13</td>\n      <td>2013</td>\n      <td>2</td>\n      <td>Full</td>\n      <td>...</td>\n      <td>NaN</td>\n      <td>NaN</td>\n      <td>NaN</td>\n      <td>NaN</td>\n      <td>NaN</td>\n      <td>NaN</td>\n      <td>NaN</td>\n      <td>NaN</td>\n      <td>NaN</td>\n      <td>NaN</td>\n    </tr>\n    <tr>\n      <th>169</th>\n      <td>http://marvel.wikia.com/Adam_Brashear_(Earth-6...</td>\n      <td>Adam Brashear</td>\n      <td>29</td>\n      <td>YES</td>\n      <td>MALE</td>\n      <td>NaT</td>\n      <td>2020-01-14</td>\n      <td>2014</td>\n      <td>1</td>\n      <td>Full</td>\n      <td>...</td>\n      <td>NaN</td>\n      <td>NaN</td>\n      <td>NaN</td>\n      <td>NaN</td>\n      <td>NaN</td>\n      <td>NaN</td>\n      <td>NaN</td>\n      <td>NaN</td>\n      <td>NaN</td>\n      <td>NaN</td>\n    </tr>\n    <tr>\n      <th>170</th>\n      <td>http://marvel.wikia.com/Victor_Alvarez_(Earth-...</td>\n      <td>Victor Alvarez</td>\n      <td>45</td>\n      <td>YES</td>\n      <td>MALE</td>\n      <td>NaT</td>\n      <td>2020-01-14</td>\n      <td>2014</td>\n      <td>1</td>\n      <td>Full</td>\n      <td>...</td>\n      <td>NaN</td>\n      <td>NaN</td>\n      <td>NaN</td>\n      <td>NaN</td>\n      <td>NaN</td>\n      <td>NaN</td>\n      <td>NaN</td>\n      <td>NaN</td>\n      <td>NaN</td>\n      <td>NaN</td>\n    </tr>\n    <tr>\n      <th>171</th>\n      <td>http://marvel.wikia.com/Ava_Ayala_(Earth-616)#</td>\n      <td>Ava Ayala</td>\n      <td>49</td>\n      <td>YES</td>\n      <td>FEMALE</td>\n      <td>NaT</td>\n      <td>2020-01-14</td>\n      <td>2014</td>\n      <td>1</td>\n      <td>Full</td>\n      <td>...</td>\n      <td>NaN</td>\n      <td>NaN</td>\n      <td>NaN</td>\n      <td>NaN</td>\n      <td>NaN</td>\n      <td>NaN</td>\n      <td>NaN</td>\n      <td>NaN</td>\n      <td>NaN</td>\n      <td>NaN</td>\n    </tr>\n    <tr>\n      <th>172</th>\n      <td>http://marvel.wikia.com/Kaluu_(Earth-616)#</td>\n      <td>Kaluu</td>\n      <td>35</td>\n      <td>YES</td>\n      <td>MALE</td>\n      <td>NaT</td>\n      <td>2020-01-15</td>\n      <td>2015</td>\n      <td>0</td>\n      <td>Full</td>\n      <td>...</td>\n      <td>NaN</td>\n      <td>NaN</td>\n      <td>NaN</td>\n      <td>NaN</td>\n      <td>NaN</td>\n      <td>NaN</td>\n      <td>NaN</td>\n      <td>NaN</td>\n      <td>NaN</td>\n      <td>NaN</td>\n    </tr>\n  </tbody>\n</table>\n<p>173 rows × 21 columns</p>\n</div>"
     },
     "metadata": {},
     "execution_count": 1
    }
   ],
   "source": [
    "import pandas as pd\n",
    "pd.read_excel('avengers.xlsx')"
   ]
  },
  {
   "cell_type": "code",
   "execution_count": 1,
   "metadata": {},
   "outputs": [],
   "source": [
    "import pytz as pz\n",
    "import pandas as pd\n",
    "import datetime as dt\n",
    "import PySimpleGUI as sg\n",
    "#from datetime_gui import datetime_gui as dtg"
   ]
  },
  {
   "cell_type": "code",
   "execution_count": 2,
   "metadata": {},
   "outputs": [],
   "source": [
    "class Gui:\n",
    "    \"\"\"A class to create the graphical user interface.\n",
    "\n",
    "    This class will create the design of the datetime interface.\n",
    "\n",
    "    No constuctor since I am using a staticmethod.\n",
    "\n",
    "    Methods\n",
    "    -------\n",
    "    gui_design(sg)\n",
    "        A method that designs the interface.\n",
    "\n",
    "    \"\"\"\n",
    "    @staticmethod\n",
    "    def gui_design(sg):\n",
    "        \"\"\"A method that designs the interface.\n",
    "\n",
    "        Parameters\n",
    "        ----------\n",
    "        sg : PySimpleGUI object\n",
    "            A object for accessing PySimpleGUI methods.\n",
    "\n",
    "        Returns\n",
    "        -------\n",
    "        layout : list\n",
    "            A list of the layout from the design.\n",
    "\n",
    "        \"\"\"\n",
    "\n",
    "        # List all timezones in dropdown\n",
    "        list_of_timezones = [tz for tz in pz.all_timezones]\n",
    "\n",
    "        frame = [\n",
    "            [\n",
    "                sg.Text('Enter a date/timestamp'),\n",
    "                sg.InputText(\n",
    "                    default_text=dt.datetime.utcnow(),\n",
    "                    enable_events=False,\n",
    "                    key='INPUT'\n",
    "                )\n",
    "            ],\n",
    "            [\n",
    "                sg.Text('From:'),\n",
    "                sg.InputCombo(list_of_timezones, readonly=True, key='FROM'),\n",
    "                sg.Text('To:'),\n",
    "                sg.InputCombo(list_of_timezones, readonly=True, key='TO')\n",
    "            ],\n",
    "            [\n",
    "                sg.Checkbox(\n",
    "                    'Check if using local time', default=False, key='LOCAL'\n",
    "                )\n",
    "            ], [sg.Button('Convert', bind_return_key=True)]\n",
    "        ]\n",
    "\n",
    "        layout = [[sg.Frame('Convert Datetime', frame)], [sg.Button('Exit')]]\n",
    "\n",
    "        return layout"
   ]
  },
  {
   "cell_type": "code",
   "execution_count": 3,
   "metadata": {},
   "outputs": [],
   "source": [
    "class Transform:\n",
    "    \"\"\"A class to transform the datetime to a string.\n",
    "    No constuctor since I am using a staticmethod.\n",
    "    Methods\n",
    "    -------\n",
    "    _date_to_datetime(str_dt)\n",
    "        A method that converts datetime to string.\n",
    "    \"\"\"\n",
    "    @staticmethod\n",
    "    def _date_to_datetime(str_dt):\n",
    "        # Code structure can be improved\n",
    "\n",
    "        # Date Format:\n",
    "        # - MM/DD/YY\n",
    "        # - MM/DD/YYYY\n",
    "        if '/' in str_dt:\n",
    "\n",
    "            if len(str_dt.split('/')[2]) == 2:\n",
    "                year = '%y'\n",
    "\n",
    "            if len(str_dt.split('/')[2]) > 2:\n",
    "                year = '%Y'\n",
    "\n",
    "            converted = dt.datetime.strptime(str_dt, '%m/%d/' + year)\n",
    "\n",
    "        # Date Format:\n",
    "        # - YY-MM-DD\n",
    "        # - YYYY-MM-DD\n",
    "        # - YYYY-MM-DD HH:MM:SS.MS\n",
    "        # - YYYY-MM-DDTHH:MM:SS.MS\n",
    "        if '-' in str_dt:\n",
    "\n",
    "            # Just in case of ISO format\n",
    "            str_dt = str_dt.replace('T', ' ')\n",
    "\n",
    "            if len(str_dt.split('-')[0]) == 2:\n",
    "                year = '%y'\n",
    "\n",
    "            elif len(str_dt.split('-')[0]) > 2:\n",
    "                year = '%Y'\n",
    "\n",
    "            if ' ' in str_dt:\n",
    "                time = ' %X'\n",
    "            else:\n",
    "                time = ''\n",
    "\n",
    "            if '.' in str_dt:\n",
    "                sec = '.%f'\n",
    "            else:\n",
    "                sec = ''\n",
    "\n",
    "            converted = dt.datetime.strptime(\n",
    "                str_dt, year + '-%m-%d' + time + sec\n",
    "            )\n",
    "\n",
    "        return converted"
   ]
  },
  {
   "cell_type": "code",
   "execution_count": 4,
   "metadata": {},
   "outputs": [],
   "source": [
    "TIMESTAMP_LENGTH = 13\n",
    "UNIX_MS = 1000.0\n",
    "\n",
    "\n",
    "def convert_timestamp(ts):\n",
    "    \"\"\"A method converts unix/unix ms timestamp into datetime.\n",
    "    Parameters\n",
    "    ----------\n",
    "    ts : str\n",
    "        The timestamp to convert.\n",
    "    Returns\n",
    "    -------\n",
    "    converted : dt.datetime\n",
    "        Converted datetime.\n",
    "    \"\"\"\n",
    "\n",
    "    if len(ts) < TIMESTAMP_LENGTH:\n",
    "        converted = dt.datetime.fromtimestamp(int(ts))\n",
    "    else:\n",
    "        converted = dt.datetime.fromtimestamp(int(ts) / UNIX_MS)\n",
    "\n",
    "    return converted\n",
    "\n",
    "\n",
    "def convert_timezone(date_input, tz_from, tz_to, local):\n",
    "    \"\"\"A method converts datetime timezones.\n",
    "    Parameters\n",
    "    ----------\n",
    "    date_input : str\n",
    "        The date input to be converted.\n",
    "    tz_from : str\n",
    "        The timezone to convert from.\n",
    "    tz_to : str\n",
    "        The timezone to convert to.\n",
    "    local : bool\n",
    "        A boolean if local checkbox was selected.\n",
    "    Returns\n",
    "    -------\n",
    "    converted : dt.datetime\n",
    "        Converted datetime.\n",
    "    \"\"\"\n",
    "\n",
    "    new = Transform._date_to_datetime(date_input)\n",
    "\n",
    "    # Must first instantiate the timezone object\n",
    "    get_from = pz.timezone(tz_from)\n",
    "    get_to = pz.timezone(tz_to)\n",
    "\n",
    "    if local:\n",
    "\n",
    "        # Then use that object to localize the datetime object\n",
    "        from_local_time = get_from.localize(new)\n",
    "\n",
    "        # Convert local time to timezone\n",
    "        converted = from_local_time.astimezone(get_to)\n",
    "\n",
    "    else:\n",
    "\n",
    "        # Add localize time to datetime\n",
    "        utc_tz = pz.utc.localize(new)\n",
    "\n",
    "        # Convert utc to local\n",
    "        converted = utc_tz.astimezone(get_to)\n",
    "\n",
    "    return converted"
   ]
  },
  {
   "cell_type": "code",
   "execution_count": 8,
   "metadata": {},
   "outputs": [
    {
     "data": {
      "text/plain": [
       "list"
      ]
     },
     "execution_count": 8,
     "metadata": {},
     "output_type": "execute_result"
    }
   ],
   "source": [
    "type(Gui().gui_design(sg))"
   ]
  },
  {
   "cell_type": "code",
   "execution_count": 19,
   "metadata": {},
   "outputs": [
    {
     "ename": "SyntaxError",
     "evalue": "invalid syntax (<ipython-input-19-d6887028cc72>, line 1)",
     "output_type": "error",
     "traceback": [
      "\u001b[1;36m  File \u001b[1;32m\"<ipython-input-19-d6887028cc72>\"\u001b[1;36m, line \u001b[1;32m1\u001b[0m\n\u001b[1;33m    assert convert_timezone('2020-03-31 21:20:42.109202', 'Etc/UTC', 'America/New_York', False) == dt.datetime(2020, 3, 31, 17, 20, 42, 109202, tzinfo=<DstTzInfo 'America/New_York' EDT-1 day, 20:00:00 DST>), '2020-03-31 17:20:42.109202-04:00'\u001b[0m\n\u001b[1;37m                                                                                                                                                       ^\u001b[0m\n\u001b[1;31mSyntaxError\u001b[0m\u001b[1;31m:\u001b[0m invalid syntax\n"
     ]
    }
   ],
   "source": [
    "assert convert_timezone('2020-03-31 21:20:42.109202', 'Etc/UTC', 'America/New_York', False) == dt.datetime(2020, 3, 31, 17, 20, 42, 109202, tzinfo=<DstTzInfo 'America/New_York' EDT-1 day, 20:00:00 DST>), '2020-03-31 17:20:42.109202-04:00'"
   ]
  },
  {
   "cell_type": "code",
   "execution_count": 10,
   "metadata": {
    "scrolled": true
   },
   "outputs": [],
   "source": [
    "def main():\n",
    "\n",
    "    # Create the Window\n",
    "    window = sg.Window('Datetime GUI', Gui().gui_design(sg))\n",
    "\n",
    "    # Event Loop to process \"events\" and get the \"values\" of the inputs\n",
    "    while True:\n",
    "    \n",
    "        event, values = window.read()\n",
    "\n",
    "        if event is not 'Exit':      \n",
    "            try:\n",
    "                date_input = values['INPUT']\n",
    "                tz_from = values['FROM']\n",
    "                tz_to = values['TO']\n",
    "                local = values['LOCAL']\n",
    "                \n",
    "                if date_input.isalnum():\n",
    "                    converted = convert_timestamp(date_input)\n",
    "                else:\n",
    "                    #converted = _date_to_datetime(date_input)\n",
    "                    converted = convert_timezone(date_input, tz_from, tz_to, local)\n",
    "\n",
    "            except:      \n",
    "                converted = 'Invalid'\n",
    "\n",
    "            sg.PopupGetText('Results', default_text=converted)\n",
    "\n",
    "        if event in (None, 'Exit'):   \n",
    "            break\n",
    "\n",
    "    window.close()\n",
    "\n",
    "main()"
   ]
  },
  {
   "cell_type": "code",
   "execution_count": 11,
   "metadata": {},
   "outputs": [
    {
     "data": {
      "text/plain": [
       "function"
      ]
     },
     "execution_count": 11,
     "metadata": {},
     "output_type": "execute_result"
    }
   ],
   "source": [
    "type(main)"
   ]
  },
  {
   "cell_type": "code",
   "execution_count": null,
   "metadata": {},
   "outputs": [],
   "source": [
    "east = pytz.timezone(\"America/New_York\")\n",
    "east"
   ]
  },
  {
   "cell_type": "code",
   "execution_count": null,
   "metadata": {},
   "outputs": [],
   "source": [
    "today_date = '3/24/20'\n",
    "new = _convert_string(today_date)\n",
    "\n",
    "new.tzinfo()"
   ]
  },
  {
   "cell_type": "code",
   "execution_count": null,
   "metadata": {},
   "outputs": [],
   "source": [
    "today_date_east = east.localize(new)\n",
    "print(today_date_east)"
   ]
  },
  {
   "cell_type": "code",
   "execution_count": null,
   "metadata": {},
   "outputs": [],
   "source": [
    "print(today_date_east.astimezone(pytz.timezone(\"Etc/UTC\")))"
   ]
  },
  {
   "cell_type": "code",
   "execution_count": null,
   "metadata": {},
   "outputs": [],
   "source": [
    "test1 = '1545730073'\n",
    "test2 = '3/24/20'"
   ]
  },
  {
   "cell_type": "code",
   "execution_count": null,
   "metadata": {},
   "outputs": [],
   "source": [
    "print('{}'.format(test1))"
   ]
  },
  {
   "cell_type": "code",
   "execution_count": null,
   "metadata": {},
   "outputs": [],
   "source": [
    "print(test1.isalnum())"
   ]
  },
  {
   "cell_type": "code",
   "execution_count": null,
   "metadata": {},
   "outputs": [],
   "source": [
    "date_input = test2\n",
    "\n",
    "if date_input.isalnum():\n",
    "    res = _convert_timestamp(date_input)\n",
    "else:\n",
    "    res = _get_date(date_input)\n",
    "res"
   ]
  },
  {
   "cell_type": "code",
   "execution_count": null,
   "metadata": {},
   "outputs": [],
   "source": [
    "backslash = '/'\n",
    "    dash = '-'\n",
    "\n",
    "    if backslash in str_dt:\n",
    "        \n",
    "        if len(str_dt.split(backslash)[2]) == 2:\n",
    "            converted = dt.datetime.strptime(str_dt, \"%m\" + backslash + \"%d\" + backslash + \"%y\")\n",
    "            \n",
    "        elif len(str_dt.split(backslash)[2]) > 2:\n",
    "            converted = dt.datetime.strptime(str_dt, \"%m\" + backslash + \"%d\" + backslash + \"%Y\")\n",
    "            \n",
    "    if dash in str_dt:\n",
    "        \n",
    "        if len(str_dt.split(dash)[2]) == 2:\n",
    "            converted = dt.datetime.strptime(str_dt, \"%m\" + dash + \"%d\" + dash + \"%y\")\n",
    "            \n",
    "        elif len(str_dt.split(dash)[2]) > 2:\n",
    "            converted = dt.datetime.strptime(str_dt, \"%m\" + dash + \"%d\" + dash + \"%Y\")"
   ]
  }
 ],
 "metadata": {
  "kernelspec": {
   "display_name": "Python 3",
   "language": "python",
   "name": "python3"
  },
  "language_info": {
   "codemirror_mode": {
    "name": "ipython",
    "version": 3
   },
   "file_extension": ".py",
   "mimetype": "text/x-python",
   "name": "python",
   "nbconvert_exporter": "python",
   "pygments_lexer": "ipython3",
   "version": "3.7.6-final"
  }
 },
 "nbformat": 4,
 "nbformat_minor": 4
}