{
 "cells": [
  {
   "cell_type": "markdown",
   "metadata": {},
   "source": [
    "## Paths"
   ]
  },
  {
   "cell_type": "code",
   "execution_count": null,
   "metadata": {},
   "outputs": [],
   "source": [
    "# Standard Libraries\n",
    "import os\n",
    "import sys\n",
    "import glob\n",
    "import json\n",
    "import getpass\n",
    "import pathlib\n",
    "\n",
    "# Third-party Libraries\n",
    "import pandas as pd\n",
    "\n",
    "# Local Imports\n",
    "\n",
    "# Use for importing code locally with juypter notebooks (or when in another directory).\n",
    "MODULE_PATH = os.path.abspath(os.path.join(\"..\"))  # For modules in repo.\n",
    "PROJECT_PATH = os.path.abspath(os.path.join(\"..\\\\..\\\\..\"))  # For local libraries outside repo.\n",
    "\n",
    "if MODULE_PATH not in sys.path and PROJECT_PATH not in sys.path:\n",
    "    sys.path.append(MODULE_PATH)\n",
    "    sys.path.append(PROJECT_PATH)\n"
   ]
  },
  {
   "cell_type": "code",
   "execution_count": null,
   "metadata": {},
   "outputs": [],
   "source": [
    "# Home drive\n",
    "HOME_DRIVE = str(pathlib.Path.home())\n",
    "\n",
    "# Paths\n",
    "OTHER_DRIVE = \"C:\\\\\"\n",
    "ext = \"csv\"\n",
    "\n",
    "some_path = \"path\\\\to\\\\file\"\n",
    "path = os.path.join(HOME_DRIVE, some_path)\n",
    "\n",
    "# wp = getpass.getpass(\"Enter: \")\n",
    "\n",
    "full_path = glob.glob(\"{}\\\\*.{}\".format(path, ext))\n",
    "# os.path.isfile(full_path)\n",
    "\n",
    "pd.concat([pd.read_csv(_) for _ in full_path])"
   ]
  },
  {
   "cell_type": "markdown",
   "metadata": {},
   "source": [
    "### Read/ Write Files"
   ]
  },
  {
   "cell_type": "code",
   "execution_count": 1,
   "metadata": {},
   "outputs": [],
   "source": [
    "# Standard Libraries\n",
    "import csv\n",
    "\n",
    "# Third-party Libraries\n",
    "# import ijson\n",
    "\n",
    "# Read in a file\n",
    "with open(file, \"r\") as f:\n",
    "\n",
    "    # Read json file\n",
    "    if file.endswith(\"json\"):\n",
    "\n",
    "        # Loads json object as a string\n",
    "        data = json.load(f)\n",
    "        \n",
    "        # Loads json string into dictionary\n",
    "        new_data = json.loads(data)\n",
    "    \n",
    "    # Rad csv file\n",
    "    elif file.endswith(\"csv\"):\n",
    "        \n",
    "        # reader = csv.reader(f, delimiter=\",\")\n",
    "        reader = csv.DictReader(f)\n",
    "\n",
    "# # Write to a csv file\n",
    "# with open(file, \"w\") as outfile:\n",
    "#     json.dump(data, outfile)\n",
    "\n",
    "# # Write to a csv file\n",
    "# f = csv.writer(open(\"text.csv\", \"w\"))\n",
    "# f.writerow([\"Column_Name\"])\n",
    "# f.writerow([\"rows\"])"
   ]
  },
  {
   "cell_type": "code",
   "execution_count": null,
   "metadata": {},
   "outputs": [],
   "source": [
    "# pd.DataFrame(data)\n",
    "# pd.read_json(file, orient=\"columns\")"
   ]
  },
  {
   "cell_type": "markdown",
   "metadata": {},
   "source": [
    "### Json"
   ]
  },
  {
   "cell_type": "code",
   "execution_count": null,
   "metadata": {},
   "outputs": [],
   "source": [
    "# json.dumps([dict1, dict2])\n",
    "# json.loads(json.dumps([dict1, dict2]))"
   ]
  },
  {
   "cell_type": "markdown",
   "metadata": {},
   "source": [
    "### Batch large json files"
   ]
  },
  {
   "cell_type": "code",
   "execution_count": null,
   "metadata": {},
   "outputs": [],
   "source": [
    "# # Funstion for generator\n",
    "# def batch_large_file(filename):\n",
    "#     for i in open(filename, \"r\"):\n",
    "#         yield i"
   ]
  },
  {
   "cell_type": "code",
   "execution_count": null,
   "metadata": {},
   "outputs": [],
   "source": [
    "# # Generator\n",
    "# file = batch_large_file(big_file)\n",
    "\n",
    "# # Count to append on different files\n",
    "# counter = 1\n",
    "\n",
    "# for f in files:\n",
    "    \n",
    "#     # Add number to file\n",
    "#     new_file = \"batch/batch_{}.json\".format(str(counter))\n",
    "    \n",
    "#     # Write to a json file\n",
    "#     with open(new_file, \"w\") as output:\n",
    "#         json.dump(f, output)\n",
    "        \n",
    "#     counter += 1"
   ]
  },
  {
   "cell_type": "markdown",
   "metadata": {},
   "source": [
    "## API"
   ]
  },
  {
   "cell_type": "code",
   "execution_count": null,
   "metadata": {},
   "outputs": [],
   "source": [
    "# Standard Libraries\n",
    "import re\n",
    "import base64\n",
    "import urllib\n",
    "import requests\n",
    "import traceback\n",
    "\n",
    "# Third-party Libraries\n",
    "import pprint\n",
    "import xmltodict\n",
    "import elasticsearch\n",
    "from io import StringIO\n",
    "from bs4 import BeautifulSoup, SoupStrainer"
   ]
  },
  {
   "cell_type": "code",
   "execution_count": null,
   "metadata": {},
   "outputs": [],
   "source": [
    "keywords = \"avengers\"\n",
    "\n",
    "# Use urllib to parse query string. Helps to reformat in url parameters in a friendly way.\n",
    "query = urllib.parse.quote_plus(keywords)\n",
    "\n",
    "base = \"\"\n",
    "\n",
    "url = base + \"q=\" + query\n",
    "\n",
    "request_body = {\n",
    "    \"key\": \"value\"\n",
    "}"
   ]
  },
  {
   "cell_type": "code",
   "execution_count": null,
   "metadata": {},
   "outputs": [],
   "source": [
    "session = requests.Session()\n",
    "\n",
    "try:\n",
    "    \n",
    "    # Disable urllib warning\n",
    "    requests.packages.urllib3.disable_warnings(\n",
    "        requests.packages.urllib3.exceptions.SecurityWarning\n",
    "    )\n",
    "    \n",
    "    # request = session.get(url, headers={\"content-type\": \"application/json\"})\n",
    "    request = session.post(\n",
    "        url,\n",
    "        # cert=(cer,key),\n",
    "        json=request_body,\n",
    "        headers={\"content-type\": \"application/json\"},\n",
    "        verify=False,\n",
    "        allow_redirects=False,\n",
    "        stream=True,\n",
    "    )\n",
    "except Exception as e:\n",
    "    traceback.print_exc()\n",
    "    print(type(e))\n",
    "    print(e)"
   ]
  },
  {
   "cell_type": "code",
   "execution_count": null,
   "metadata": {},
   "outputs": [],
   "source": [
    "requests.text"
   ]
  },
  {
   "cell_type": "code",
   "execution_count": null,
   "metadata": {},
   "outputs": [],
   "source": [
    "# Source: https://github.com/fhightower/html-to-json/blob/main/html_to_json/convert_html.py\n",
    "\n",
    "# HTML\n",
    "if \"HTML\" in requests.text:\n",
    "    json_data = convert_html.convert(requests.text)\n",
    "\n",
    "# XML\n",
    "elif \"xml\" in requests.text:\n",
    "    json_string = json.dumps(xmltodict.parse(requests.text))\n",
    "    json_data = json.loads(json_string)\n",
    "    \n",
    "else:\n",
    "    json_data = request.json()\n",
    "    # json_data = json.loads(requests.text)\n",
    "\n",
    "json_data"
   ]
  },
  {
   "cell_type": "code",
   "execution_count": null,
   "metadata": {},
   "outputs": [],
   "source": [
    "# BeautifulSoup\n",
    "soup = BeautifulSoup(requests.content, \"xml\")  # html.parser"
   ]
  },
  {
   "cell_type": "code",
   "execution_count": null,
   "metadata": {},
   "outputs": [],
   "source": [
    "soup.find(\"title\").get_text()"
   ]
  },
  {
   "cell_type": "code",
   "execution_count": null,
   "metadata": {},
   "outputs": [],
   "source": [
    "re.sub(\"\\n\", \"\", soup.find(\"body\").get_text())"
   ]
  },
  {
   "cell_type": "code",
   "execution_count": null,
   "metadata": {},
   "outputs": [],
   "source": [
    "# # Remove white spaces\n",
    "# [i for in soup.stripped_strings]"
   ]
  },
  {
   "cell_type": "code",
   "execution_count": null,
   "metadata": {},
   "outputs": [],
   "source": [
    "_df_list = []\n",
    "\n",
    "for i in json_data:\n",
    "    \n",
    "    if type(json_data[i]) == list:\n",
    "        for j in json_data[i]:\n",
    "            # _df_list.append(get_leaves(j))\n",
    "            _df_list.append(pd.json_normalize(j))\n",
    "\n",
    "pd.concat(_df_list, ignore_index=True, sort=False)"
   ]
  },
  {
   "cell_type": "code",
   "execution_count": null,
   "metadata": {},
   "outputs": [],
   "source": [
    "# dict([(k, Series(v)) for k, v in json_data.items()])\n",
    "# pd.from_dict(json_data, orient=\"index\")"
   ]
  },
  {
   "cell_type": "markdown",
   "metadata": {},
   "source": [
    "## Regex"
   ]
  },
  {
   "cell_type": "code",
   "execution_count": null,
   "metadata": {},
   "outputs": [],
   "source": [
    "re.findall(\"[0-9a-zA-Z]\", \"(1,2,3,4,5)\")"
   ]
  },
  {
   "cell_type": "markdown",
   "metadata": {},
   "source": [
    "## Pandas"
   ]
  },
  {
   "cell_type": "code",
   "execution_count": null,
   "metadata": {},
   "outputs": [],
   "source": [
    "# e_df[\"eml\"].str.extract(\"\\<(.*?)>\\\\\", expand=True)\n",
    "# e_df.loc[(e_df[\"eml\"].str.contains(\"@\")) & ~(e_df[\"eml\"].str.contains(\"<\")), \"to\"] = e_df.loc[(e_df[\"eml\"].str.contains(\"@\")) & ~(e_df[\"eml\"].str.contains(\"<\")), \"from\"]"
   ]
  },
  {
   "cell_type": "code",
   "execution_count": null,
   "metadata": {},
   "outputs": [],
   "source": [
    "# # Split columns\n",
    "# df[\"a\"], df[\"b\"] = df[\"ab\"].str.split(\",\", 1).str"
   ]
  },
  {
   "cell_type": "code",
   "execution_count": null,
   "metadata": {},
   "outputs": [],
   "source": [
    "# # Indexing\n",
    "# pd.at[index, column]"
   ]
  },
  {
   "cell_type": "code",
   "execution_count": null,
   "metadata": {},
   "outputs": [],
   "source": [
    "# # Formatting\n",
    "# pd.map(\"{:,.2f}\".format)\n",
    "# pd.to_string(formatters={\"cost\": \"{:,.2f}\".format})\n",
    "# pd.options.display.float_format = \"{:,.2f}\".format"
   ]
  },
  {
   "cell_type": "code",
   "execution_count": null,
   "metadata": {},
   "outputs": [],
   "source": [
    "# dates.apply(lambda x:x.strftime(\"%Y-%m-%d\"))"
   ]
  },
  {
   "cell_type": "code",
   "execution_count": null,
   "metadata": {},
   "outputs": [],
   "source": [
    "# pd.groupby([...])[].sum.unstack(fill_value=0).reset_index().rename_axis(None, axis=1)"
   ]
  },
  {
   "cell_type": "code",
   "execution_count": null,
   "metadata": {},
   "outputs": [],
   "source": []
  }
 ],
 "metadata": {
  "kernelspec": {
   "display_name": "Python 3",
   "language": "python",
   "name": "python3"
  },
  "language_info": {
   "codemirror_mode": {
    "name": "ipython",
    "version": 3
   },
   "file_extension": ".py",
   "mimetype": "text/x-python",
   "name": "python",
   "nbconvert_exporter": "python",
   "pygments_lexer": "ipython3",
   "version": "3.7.6"
  }
 },
 "nbformat": 4,
 "nbformat_minor": 5
}
