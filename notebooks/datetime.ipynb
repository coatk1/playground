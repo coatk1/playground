{
 "cells": [
  {
   "cell_type": "markdown",
   "metadata": {},
   "source": [
    "## Python Dates"
   ]
  },
  {
   "cell_type": "code",
   "execution_count": 1,
   "metadata": {},
   "outputs": [],
   "source": [
    "import datetime as dt"
   ]
  },
  {
   "cell_type": "code",
   "execution_count": 2,
   "metadata": {},
   "outputs": [],
   "source": [
    "today_date = dt.datetime.now()"
   ]
  },
  {
   "cell_type": "code",
   "execution_count": 3,
   "metadata": {},
   "outputs": [
    {
     "name": "stdout",
     "output_type": "stream",
     "text": [
      "2020-01-11 10:35:28.419420\n"
     ]
    }
   ],
   "source": [
    "print(today_date)"
   ]
  },
  {
   "cell_type": "markdown",
   "metadata": {},
   "source": [
    "## Datetime Output"
   ]
  },
  {
   "cell_type": "code",
   "execution_count": 4,
   "metadata": {},
   "outputs": [
    {
     "name": "stdout",
     "output_type": "stream",
     "text": [
      "2020\n"
     ]
    }
   ],
   "source": [
    "print(today_date.year)"
   ]
  },
  {
   "cell_type": "code",
   "execution_count": 5,
   "metadata": {},
   "outputs": [
    {
     "name": "stdout",
     "output_type": "stream",
     "text": [
      "Saturday\n"
     ]
    }
   ],
   "source": [
    "print(today_date.strftime('%A'))"
   ]
  },
  {
   "cell_type": "markdown",
   "metadata": {},
   "source": [
    "## Convert datetime to string with format"
   ]
  },
  {
   "cell_type": "code",
   "execution_count": 6,
   "metadata": {},
   "outputs": [
    {
     "name": "stdout",
     "output_type": "stream",
     "text": [
      "January 11, 2020\n"
     ]
    }
   ],
   "source": [
    "print(today_date.strftime(\"%B %d, %Y\"))"
   ]
  },
  {
   "cell_type": "markdown",
   "metadata": {},
   "source": [
    "## Convert date string to datetime"
   ]
  },
  {
   "cell_type": "code",
   "execution_count": 7,
   "metadata": {},
   "outputs": [],
   "source": [
    "holiday = \"December 25, 2019\""
   ]
  },
  {
   "cell_type": "code",
   "execution_count": 8,
   "metadata": {},
   "outputs": [
    {
     "name": "stdout",
     "output_type": "stream",
     "text": [
      "2019-12-25 00:00:00\n"
     ]
    }
   ],
   "source": [
    "print(dt.datetime.strptime(holiday, \"%B %d, %Y\"))"
   ]
  },
  {
   "cell_type": "markdown",
   "metadata": {},
   "source": [
    "## Convert date to ISO 8601 format"
   ]
  },
  {
   "cell_type": "code",
   "execution_count": 9,
   "metadata": {},
   "outputs": [
    {
     "name": "stdout",
     "output_type": "stream",
     "text": [
      "2020-01-11T10:35:28.419420\n"
     ]
    }
   ],
   "source": [
    "print(today_date.isoformat())"
   ]
  },
  {
   "cell_type": "markdown",
   "metadata": {},
   "source": [
    "## Convert Localtime to UTC"
   ]
  },
  {
   "cell_type": "code",
   "execution_count": 10,
   "metadata": {},
   "outputs": [
    {
     "name": "stdout",
     "output_type": "stream",
     "text": [
      "None\n"
     ]
    }
   ],
   "source": [
    "# See if datetime object is naive if tzinfo is None\n",
    "print(today_date.tzinfo)"
   ]
  },
  {
   "cell_type": "code",
   "execution_count": 11,
   "metadata": {},
   "outputs": [],
   "source": [
    "import pytz\n",
    "\n",
    "#for tz in pytz.all_timezones:\n",
    "#    print (tz)\n",
    "    \n",
    "#[tz for tz in pytz.all_timezones]"
   ]
  },
  {
   "cell_type": "code",
   "execution_count": 12,
   "metadata": {},
   "outputs": [
    {
     "name": "stdout",
     "output_type": "stream",
     "text": [
      "America/New_York\n",
      "America/Los_Angeles\n",
      "2020-01-11 10:35:28.419420-05:00\n",
      "2020-01-11 10:35:28.419420-08:00\n"
     ]
    }
   ],
   "source": [
    "# Must first instantiate the timezone object \n",
    "east = pytz.timezone(\"America/New_York\")\n",
    "west = pytz.timezone(\"America/Los_Angeles\")\n",
    "print(east)\n",
    "print(west)\n",
    "\n",
    "# Then use that object to localize the datetime object\n",
    "today_date_east = east.localize(today_date)\n",
    "today_date_west = west.localize(today_date)\n",
    "\n",
    "print(today_date_east)\n",
    "print(today_date_west)"
   ]
  },
  {
   "cell_type": "code",
   "execution_count": 13,
   "metadata": {},
   "outputs": [
    {
     "name": "stdout",
     "output_type": "stream",
     "text": [
      "2020-01-11 15:35:28.419420+00:00\n"
     ]
    }
   ],
   "source": [
    "# Convert to UTC\n",
    "print(today_date_east.astimezone(pytz.timezone(\"Etc/UTC\")))"
   ]
  },
  {
   "cell_type": "markdown",
   "metadata": {},
   "source": [
    "## Convert UTC to Localtime"
   ]
  },
  {
   "cell_type": "code",
   "execution_count": 14,
   "metadata": {},
   "outputs": [
    {
     "name": "stdout",
     "output_type": "stream",
     "text": [
      "2020-01-11 15:35:36.585485\n"
     ]
    }
   ],
   "source": [
    "today_utc = dt.datetime.utcnow()\n",
    "print(today_utc)"
   ]
  },
  {
   "cell_type": "code",
   "execution_count": 15,
   "metadata": {},
   "outputs": [
    {
     "name": "stdout",
     "output_type": "stream",
     "text": [
      "2020-01-11 15:35:36.585485+00:00\n"
     ]
    }
   ],
   "source": [
    "# Method 1\n",
    "utc_now = pytz.utc.localize(today_utc)\n",
    "print(utc_now)"
   ]
  },
  {
   "cell_type": "code",
   "execution_count": 16,
   "metadata": {},
   "outputs": [
    {
     "name": "stdout",
     "output_type": "stream",
     "text": [
      "2020-01-11 15:35:36.585485+00:00\n"
     ]
    }
   ],
   "source": [
    "# Method 2\n",
    "print(today_utc.replace(tzinfo=pytz.timezone(\"Etc/UTC\")))"
   ]
  },
  {
   "cell_type": "code",
   "execution_count": 17,
   "metadata": {},
   "outputs": [
    {
     "name": "stdout",
     "output_type": "stream",
     "text": [
      "2020-01-11 10:35:36.585485-05:00\n"
     ]
    }
   ],
   "source": [
    "# Convert to local time\n",
    "past_now = utc_now.astimezone(pytz.timezone(\"America/New_York\"))\n",
    "print(past_now)"
   ]
  },
  {
   "cell_type": "markdown",
   "metadata": {},
   "source": [
    "## Reference Guide"
   ]
  },
  {
   "cell_type": "markdown",
   "metadata": {},
   "source": [
    "| Directive | Description                                                 | Example                  | \n",
    "| --------- | ----------------------------------------------------------- | ------------------------ |\n",
    "| %a        | Weekday, short version                                      | Wed\t                     |\n",
    "| %A        | Weekday, full version\t                                      | Wednesday                |\n",
    "| %w        | Weekday as a number 0-6, 0 is Sunday                        | 3\t                     |\n",
    "| %d        | Day of month 01-31\t                                      | 31\t                     |\n",
    "| %b        | Month name, short version\t                                  | Dec\t                     |\n",
    "| %B        | Month name, full version\t                                  | December\t             |\n",
    "| %m        | Month as a number 01-12\t                                  | 12\t                     |\n",
    "| %y        | Year, short version, without century\t                      | 18\t                     |\n",
    "| %Y        | Year, full version\t                                      | 2018\t                 |\n",
    "| %H        | Hour 00-23\t                                              | 17\t                     |\n",
    "| %I        | Hour 00-12\t                                              | 05\t                     |\n",
    "| %p        | AM/PM\t                                                      | PM\t                     |\n",
    "| %M        | Minute 00-59\t                                              | 41\t                     |\n",
    "| %S        | Second 00-59\t                                              | 08\t                     |\n",
    "| %f        | Microsecond 000000-999999\t                                  | 548513\t                 |\n",
    "| %z        | UTC offset\t                                              | +0100\t                 |\n",
    "| %Z        | Timezone\t                                                  | CST\t                     |\n",
    "| %j        | Day number of year 001-366\t                              | 365\t                     |\n",
    "| %U        | Week number of year, Sunday as the first day of week, 00-53 | 52\t                     |\n",
    "| %W        | Week number of year, Monday as the first day of week, 00-53 | 52\t                     |\n",
    "| %c        | Local version of date and time\t                          | Mon Dec 31 17:41:00 2018 |\n",
    "| %x        | Local version of date\t                                      | 12/31/18\t             |\n",
    "| %X        | Local version of time\t                                      | 17:41:00\t             |\n",
    "| %%        | A % character                                               | %                        |"
   ]
  },
  {
   "cell_type": "code",
   "execution_count": 22,
   "metadata": {
    "scrolled": true
   },
   "outputs": [],
   "source": [
    "# import pandas as pd\n",
    "\n",
    "# df = pd.DataFrame([tz for tz in pytz.all_timezones])\n",
    "# df.to_csv('list_of_pytz.csv', index=False, header=False)"
   ]
  },
  {
   "cell_type": "code",
   "execution_count": null,
   "metadata": {},
   "outputs": [],
   "source": []
  }
 ],
 "metadata": {
  "kernelspec": {
   "display_name": "Python 3",
   "language": "python",
   "name": "python3"
  },
  "language_info": {
   "codemirror_mode": {
    "name": "ipython",
    "version": 3
   },
   "file_extension": ".py",
   "mimetype": "text/x-python",
   "name": "python",
   "nbconvert_exporter": "python",
   "pygments_lexer": "ipython3",
   "version": "3.7.6"
  }
 },
 "nbformat": 4,
 "nbformat_minor": 2
}
