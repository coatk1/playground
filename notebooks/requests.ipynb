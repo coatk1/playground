{
 "cells": [
  {
   "cell_type": "code",
   "execution_count": 45,
   "metadata": {},
   "outputs": [],
   "source": [
    "# Resource: https://httpbin.org/\n",
    "\n",
    "import json\n",
    "import requests\n",
    "from getpass import getpass\n",
    "from requests.auth import HTTPBasicAuth\n",
    "from requests.exceptions import HTTPError"
   ]
  },
  {
   "cell_type": "code",
   "execution_count": 46,
   "metadata": {},
   "outputs": [],
   "source": [
    "get = 'https://httpbin.org/get'\n",
    "post = 'https://httpbin.org/post'\n",
    "git = 'https://api.github.com/search/repositories'\n",
    "ck = 'https://httpbin.org/cookies'"
   ]
  },
  {
   "cell_type": "code",
   "execution_count": 47,
   "metadata": {},
   "outputs": [],
   "source": [
    "# Add data to url query string\n",
    "payload = {'key1': 'value1', 'key2': 'value2', 'key3': None}\n",
    "lang = {'q': 'requests+language:python'}\n",
    "# payload_tuples = [('key1', 'value1'), ('key1', 'value2')]"
   ]
  },
  {
   "cell_type": "code",
   "execution_count": 48,
   "metadata": {},
   "outputs": [
    {
     "data": {
      "text/plain": [
       "'{\"key1\": \"value1\", \"key2\": \"value2\", \"key3\": null}'"
      ]
     },
     "execution_count": 48,
     "metadata": {},
     "output_type": "execute_result"
    }
   ],
   "source": [
    "# Use json.dumps() to convert dictionary to string for POST requests.\n",
    "# Use either data, files, or json parameter.\n",
    "json.dumps(payload)"
   ]
  },
  {
   "cell_type": "code",
   "execution_count": 49,
   "metadata": {},
   "outputs": [
    {
     "data": {
      "text/plain": [
       "{'key1': 'value1', 'key2': 'value2', 'key3': None}"
      ]
     },
     "execution_count": 49,
     "metadata": {},
     "output_type": "execute_result"
    }
   ],
   "source": [
    "# Convert JSON string to a dictionary or Python object\n",
    "json.loads(json.dumps(payload))"
   ]
  },
  {
   "cell_type": "code",
   "execution_count": 50,
   "metadata": {},
   "outputs": [
    {
     "data": {
      "text/plain": [
       "<RequestsCookieJar[Cookie(version=0, name='tasty_cookie', value='yum', port=None, port_specified=False, domain='httpbin.org', domain_specified=True, domain_initial_dot=False, path='/get', path_specified=True, secure=False, expires=None, discard=True, comment=None, comment_url=None, rest={'HttpOnly': None}, rfc2109=False)]>"
      ]
     },
     "execution_count": 50,
     "metadata": {},
     "output_type": "execute_result"
    }
   ],
   "source": [
    "# Set cookies manually\n",
    "# cookies = dict(cookies_are='working')\n",
    "jar = requests.cookies.RequestsCookieJar()\n",
    "jar.set('tasty_cookie', 'yum', domain='httpbin.org', path='/get')\n",
    "jar"
   ]
  },
  {
   "cell_type": "markdown",
   "metadata": {},
   "source": [
    "Making a request.\n",
    "\n",
    "Can pass in a query string, data, set booleans for streaming bytes and redirects, and setting a timeout for waiting for a response from server.\n",
    "\n",
    "Note: set `stream=True` to defer downloading the response body until calling `r.content`"
   ]
  },
  {
   "cell_type": "code",
   "execution_count": 51,
   "metadata": {},
   "outputs": [],
   "source": [
    "r = requests.get(get, params=payload, cookies=jar, stream=True, allow_redirects=True, timeout=5)\n",
    "# r = requests.post(post, json=payload)  # See requests-toolbelt for posting large files.\n",
    "# r = requests.get(git, stream=True, params=lang, headers={'Accept': 'application/vnd.github.v3.text-match+json'})"
   ]
  },
  {
   "cell_type": "code",
   "execution_count": 52,
   "metadata": {},
   "outputs": [
    {
     "data": {
      "text/plain": [
       "200"
      ]
     },
     "execution_count": 52,
     "metadata": {},
     "output_type": "execute_result"
    }
   ],
   "source": [
    "# Status of response object\n",
    "r.status_code"
   ]
  },
  {
   "cell_type": "markdown",
   "metadata": {},
   "source": [
    "* 200: Everything went okay, and the result has been returned (if any).\n",
    "* 301: The server is redirecting you to a different endpoint. This can happen when a company switches domain names, or an endpoint name is changed.\n",
    "* 400: The server thinks you made a bad request. This can happen when you don’t send along the right data, among other things.\n",
    "* 401: The server thinks you’re not authenticated. Many APIs require login ccredentials, so this happens when you don’t send the right credentials to access an API.\n",
    "* 403: The resource you’re trying to access is forbidden: you don’t have the right permissions to see it.\n",
    "* 404: The resource you tried to access wasn’t found on the server.\n",
    "* 503: The server is not ready to handle the request.\n",
    "\n",
    "Source: https://www.dataquest.io/blog/python-api-tutorial/"
   ]
  },
  {
   "cell_type": "code",
   "execution_count": 53,
   "metadata": {},
   "outputs": [
    {
     "data": {
      "text/plain": [
       "[]"
      ]
     },
     "execution_count": 53,
     "metadata": {},
     "output_type": "execute_result"
    }
   ],
   "source": [
    "# Contains a list of response objects that were created\n",
    "r.history"
   ]
  },
  {
   "cell_type": "code",
   "execution_count": 54,
   "metadata": {},
   "outputs": [
    {
     "data": {
      "text/plain": [
       "'https://httpbin.org/get?key1=value1&key2=value2'"
      ]
     },
     "execution_count": 54,
     "metadata": {},
     "output_type": "execute_result"
    }
   ],
   "source": [
    "r.url"
   ]
  },
  {
   "cell_type": "code",
   "execution_count": 55,
   "metadata": {},
   "outputs": [],
   "source": [
    "# Response Content\n",
    "# r.text"
   ]
  },
  {
   "cell_type": "code",
   "execution_count": 56,
   "metadata": {},
   "outputs": [],
   "source": [
    "# Encoding Type\n",
    "r.encoding"
   ]
  },
  {
   "cell_type": "code",
   "execution_count": 57,
   "metadata": {},
   "outputs": [],
   "source": [
    "# Binary Response Content\n",
    "# r.content"
   ]
  },
  {
   "cell_type": "code",
   "execution_count": 58,
   "metadata": {},
   "outputs": [
    {
     "data": {
      "text/plain": [
       "'application/json'"
      ]
     },
     "execution_count": 58,
     "metadata": {},
     "output_type": "execute_result"
    }
   ],
   "source": [
    "# Check the header type\n",
    "r.headers.get('content-type')"
   ]
  },
  {
   "cell_type": "code",
   "execution_count": 59,
   "metadata": {},
   "outputs": [],
   "source": [
    "# JSON data. \n",
    "# Ensure the response passes before calling json() \n",
    "# so it doesn't return a JSON object on a failed response.\n",
    "\n",
    "try:\n",
    "    if r.status_code == requests.codes.ok:\n",
    "        data = r.json()\n",
    "    r.raise_for_status()  # Rasies an exception if error\n",
    "\n",
    "except HTTPError as http_err:\n",
    "    print(f'HTTP error occurred: {http_err}')\n",
    "\n",
    "except Exception as err:\n",
    "        print(f'Other error occurred: {err}')  # Python 3.6"
   ]
  },
  {
   "cell_type": "code",
   "execution_count": 60,
   "metadata": {},
   "outputs": [
    {
     "data": {
      "text/plain": [
       "{'args': {'key1': 'value1', 'key2': 'value2'},\n",
       " 'headers': {'Accept': '*/*',\n",
       "  'Accept-Encoding': 'gzip, deflate',\n",
       "  'Cookie': 'tasty_cookie=yum',\n",
       "  'Host': 'httpbin.org',\n",
       "  'User-Agent': 'python-requests/2.24.0',\n",
       "  'X-Amzn-Trace-Id': 'Root=1-6019c7d1-7a6e9f6a0ccc747945bb026f'},\n",
       " 'origin': '173.66.139.178',\n",
       " 'url': 'https://httpbin.org/get?key1=value1&key2=value2'}"
      ]
     },
     "execution_count": 60,
     "metadata": {},
     "output_type": "execute_result"
    }
   ],
   "source": [
    "data"
   ]
  },
  {
   "cell_type": "code",
   "execution_count": 61,
   "metadata": {},
   "outputs": [],
   "source": [
    "# For getting Raw Response Content\n",
    "# for chunk in r.iter_content(chunk_size=128):\n",
    "#     print(chunk)"
   ]
  },
  {
   "cell_type": "markdown",
   "metadata": {},
   "source": [
    "Session"
   ]
  },
  {
   "cell_type": "code",
   "execution_count": 62,
   "metadata": {},
   "outputs": [],
   "source": [
    "# Use session to keep a request persist \n",
    "s = requests.Session()"
   ]
  },
  {
   "cell_type": "code",
   "execution_count": 63,
   "metadata": {},
   "outputs": [],
   "source": [
    "proxies = {\n",
    "  'http': 'http://10.10.1.10:3128',\n",
    "  'https': 'http://10.10.1.10:1080',\n",
    "}"
   ]
  },
  {
   "cell_type": "code",
   "execution_count": 64,
   "metadata": {},
   "outputs": [],
   "source": [
    "# Set default data\n",
    "# s.auth = ('coatk1', getpass())  # Passes in authentification\n",
    "s.headers.update({'x-test': 'true'})  # Updating the headers\n",
    "# s.verify = '/path/to/certfile'  # For SSL Cert Verification\n",
    "# s.cert = '/path/client.cert'  # For Client-side certificates\n",
    "# s.verify = False\n",
    "s.stream = True  # For handling data in response body\n",
    "# s.proxies.update(proxies)  # For setting proxies"
   ]
  },
  {
   "cell_type": "code",
   "execution_count": 65,
   "metadata": {},
   "outputs": [
    {
     "data": {
      "text/plain": [
       "<Response [200]>"
      ]
     },
     "execution_count": 65,
     "metadata": {},
     "output_type": "execute_result"
    }
   ],
   "source": [
    "# Set cookies\n",
    "s.get('https://httpbin.org/cookies/set/sessioncookie/123456789')"
   ]
  },
  {
   "cell_type": "code",
   "execution_count": 66,
   "metadata": {},
   "outputs": [
    {
     "data": {
      "text/plain": [
       "{'args': {},\n",
       " 'headers': {'Accept': '*/*',\n",
       "  'Accept-Encoding': 'gzip, deflate',\n",
       "  'Cookie': 'sessioncookie=123456789',\n",
       "  'Host': 'httpbin.org',\n",
       "  'User-Agent': 'python-requests/2.24.0',\n",
       "  'X-Amzn-Trace-Id': 'Root=1-6019c7d3-2034b9552363a03413de4750',\n",
       "  'X-Test': 'true'},\n",
       " 'origin': '173.66.139.178',\n",
       " 'url': 'https://httpbin.org/get'}"
      ]
     },
     "execution_count": 66,
     "metadata": {},
     "output_type": "execute_result"
    }
   ],
   "source": [
    "r = s.get(get)\n",
    "r.json()"
   ]
  },
  {
   "cell_type": "code",
   "execution_count": 67,
   "metadata": {},
   "outputs": [],
   "source": [
    "# To manually add cookies. Note: this does NOT persist with session.\n",
    "# r = s.get(get, cookies=requests.utils.dict_from_cookiejar(jar))\n",
    "# r.json()"
   ]
  },
  {
   "cell_type": "code",
   "execution_count": 68,
   "metadata": {},
   "outputs": [],
   "source": [
    "# Prepared Requests can be used if you want to make changes before sending a request.\n",
    "# req = requests.Request('POST', post, json=payload)\n",
    "# prepped = req.prepare()\n",
    "# del prepped.headers['Content-Type']\n",
    "# resp = s.send(prepped,\n",
    "#     stream=True,\n",
    "#     timeout=1\n",
    "# )\n",
    "# resp.json()"
   ]
  },
  {
   "cell_type": "code",
   "execution_count": 69,
   "metadata": {},
   "outputs": [],
   "source": [
    "r = requests.get('https://api.github.com/repos/psf/requests/git/commits/a050faf084662f3a352dd1a941f2c7c9f886d4ad')"
   ]
  },
  {
   "cell_type": "code",
   "execution_count": 70,
   "metadata": {},
   "outputs": [
    {
     "name": "stdout",
     "output_type": "stream",
     "text": [
      "application/json; charset=utf-8\n"
     ]
    }
   ],
   "source": [
    "if r.status_code == requests.codes.ok:\n",
    "    print(r.headers['content-type'])"
   ]
  },
  {
   "cell_type": "code",
   "execution_count": 71,
   "metadata": {},
   "outputs": [
    {
     "data": {
      "text/plain": [
       "{'sha': 'a050faf084662f3a352dd1a941f2c7c9f886d4ad',\n",
       " 'node_id': 'MDY6Q29tbWl0MTM2MjQ5MDphMDUwZmFmMDg0NjYyZjNhMzUyZGQxYTk0MWYyYzdjOWY4ODZkNGFk',\n",
       " 'url': 'https://api.github.com/repos/psf/requests/git/commits/a050faf084662f3a352dd1a941f2c7c9f886d4ad',\n",
       " 'html_url': 'https://github.com/psf/requests/commit/a050faf084662f3a352dd1a941f2c7c9f886d4ad',\n",
       " 'author': {'name': 'Kenneth Reitz',\n",
       "  'email': 'me@kennethreitz.com',\n",
       "  'date': '2012-05-10T18:10:50Z'},\n",
       " 'committer': {'name': 'Kenneth Reitz',\n",
       "  'email': 'me@kennethreitz.com',\n",
       "  'date': '2012-05-10T18:10:50Z'},\n",
       " 'tree': {'sha': '3f05ebcb7723fd6a14af455697cacdbc3b9081a7',\n",
       "  'url': 'https://api.github.com/repos/psf/requests/git/trees/3f05ebcb7723fd6a14af455697cacdbc3b9081a7'},\n",
       " 'message': \"makin' history\",\n",
       " 'parents': [{'sha': '0a37d8244414249596cf52f730520fbe66537eb9',\n",
       "   'url': 'https://api.github.com/repos/psf/requests/git/commits/0a37d8244414249596cf52f730520fbe66537eb9',\n",
       "   'html_url': 'https://github.com/psf/requests/commit/0a37d8244414249596cf52f730520fbe66537eb9'}],\n",
       " 'verification': {'verified': False,\n",
       "  'reason': 'unsigned',\n",
       "  'signature': None,\n",
       "  'payload': None}}"
      ]
     },
     "execution_count": 71,
     "metadata": {},
     "output_type": "execute_result"
    }
   ],
   "source": [
    "r.json()"
   ]
  },
  {
   "cell_type": "code",
   "execution_count": 72,
   "metadata": {},
   "outputs": [
    {
     "data": {
      "text/plain": [
       "{'name': 'Kenneth Reitz',\n",
       " 'email': 'me@kennethreitz.com',\n",
       " 'date': '2012-05-10T18:10:50Z'}"
      ]
     },
     "execution_count": 72,
     "metadata": {},
     "output_type": "execute_result"
    }
   ],
   "source": [
    "commit_data = r.json()\n",
    "commit_data['committer']"
   ]
  },
  {
   "cell_type": "code",
   "execution_count": 73,
   "metadata": {},
   "outputs": [
    {
     "data": {
      "text/plain": [
       "{'Date': 'Tue, 02 Feb 2021 21:44:51 GMT', 'Content-Type': 'text/html; charset=utf-8', 'Content-Length': '0', 'Connection': 'keep-alive', 'Server': 'gunicorn/19.9.0', 'Allow': 'OPTIONS, HEAD, GET', 'Access-Control-Allow-Origin': '*', 'Access-Control-Allow-Credentials': 'true', 'Access-Control-Allow-Methods': 'GET, POST, PUT, DELETE, PATCH, OPTIONS', 'Access-Control-Max-Age': '3600'}"
      ]
     },
     "execution_count": 73,
     "metadata": {},
     "output_type": "execute_result"
    }
   ],
   "source": [
    "# Use Options to find HTTP verbs for a site.\n",
    "r = requests.options('https://httpbin.org/')\n",
    "r.headers"
   ]
  },
  {
   "cell_type": "code",
   "execution_count": 74,
   "metadata": {},
   "outputs": [],
   "source": [
    "r = requests.get('https://api.github.com/repos/coatk1/playground/issues/15', stream=True)"
   ]
  },
  {
   "cell_type": "code",
   "execution_count": 75,
   "metadata": {},
   "outputs": [
    {
     "data": {
      "text/plain": [
       "200"
      ]
     },
     "execution_count": 75,
     "metadata": {},
     "output_type": "execute_result"
    }
   ],
   "source": [
    "r.status_code"
   ]
  },
  {
   "cell_type": "code",
   "execution_count": 76,
   "metadata": {},
   "outputs": [],
   "source": [
    "issue = json.loads(r.text)"
   ]
  },
  {
   "cell_type": "code",
   "execution_count": 77,
   "metadata": {},
   "outputs": [
    {
     "data": {
      "text/plain": [
       "{'url': 'https://api.github.com/repos/coatk1/playground/issues/15',\n",
       " 'repository_url': 'https://api.github.com/repos/coatk1/playground',\n",
       " 'labels_url': 'https://api.github.com/repos/coatk1/playground/issues/15/labels{/name}',\n",
       " 'comments_url': 'https://api.github.com/repos/coatk1/playground/issues/15/comments',\n",
       " 'events_url': 'https://api.github.com/repos/coatk1/playground/issues/15/events',\n",
       " 'html_url': 'https://github.com/coatk1/playground/issues/15',\n",
       " 'id': 589882045,\n",
       " 'node_id': 'MDU6SXNzdWU1ODk4ODIwNDU=',\n",
       " 'number': 15,\n",
       " 'title': '[FEATURE] Requests/API',\n",
       " 'user': {'login': 'coatk1',\n",
       "  'id': 26526811,\n",
       "  'node_id': 'MDQ6VXNlcjI2NTI2ODEx',\n",
       "  'avatar_url': 'https://avatars.githubusercontent.com/u/26526811?v=4',\n",
       "  'gravatar_id': '',\n",
       "  'url': 'https://api.github.com/users/coatk1',\n",
       "  'html_url': 'https://github.com/coatk1',\n",
       "  'followers_url': 'https://api.github.com/users/coatk1/followers',\n",
       "  'following_url': 'https://api.github.com/users/coatk1/following{/other_user}',\n",
       "  'gists_url': 'https://api.github.com/users/coatk1/gists{/gist_id}',\n",
       "  'starred_url': 'https://api.github.com/users/coatk1/starred{/owner}{/repo}',\n",
       "  'subscriptions_url': 'https://api.github.com/users/coatk1/subscriptions',\n",
       "  'organizations_url': 'https://api.github.com/users/coatk1/orgs',\n",
       "  'repos_url': 'https://api.github.com/users/coatk1/repos',\n",
       "  'events_url': 'https://api.github.com/users/coatk1/events{/privacy}',\n",
       "  'received_events_url': 'https://api.github.com/users/coatk1/received_events',\n",
       "  'type': 'User',\n",
       "  'site_admin': False},\n",
       " 'labels': [{'id': 1925911363,\n",
       "   'node_id': 'MDU6TGFiZWwxOTI1OTExMzYz',\n",
       "   'url': 'https://api.github.com/repos/coatk1/playground/labels/Priority-%20Medium',\n",
       "   'name': 'Priority- Medium',\n",
       "   'color': 'bf0000',\n",
       "   'default': False,\n",
       "   'description': 'This issue may be useful, and needs some attention'},\n",
       "  {'id': 1667207474,\n",
       "   'node_id': 'MDU6TGFiZWwxNjY3MjA3NDc0',\n",
       "   'url': 'https://api.github.com/repos/coatk1/playground/labels/Type-%20Enhancement',\n",
       "   'name': 'Type- Enhancement',\n",
       "   'color': '2793e8',\n",
       "   'default': False,\n",
       "   'description': 'New feature or request'}],\n",
       " 'state': 'open',\n",
       " 'locked': False,\n",
       " 'assignee': {'login': 'coatk1',\n",
       "  'id': 26526811,\n",
       "  'node_id': 'MDQ6VXNlcjI2NTI2ODEx',\n",
       "  'avatar_url': 'https://avatars.githubusercontent.com/u/26526811?v=4',\n",
       "  'gravatar_id': '',\n",
       "  'url': 'https://api.github.com/users/coatk1',\n",
       "  'html_url': 'https://github.com/coatk1',\n",
       "  'followers_url': 'https://api.github.com/users/coatk1/followers',\n",
       "  'following_url': 'https://api.github.com/users/coatk1/following{/other_user}',\n",
       "  'gists_url': 'https://api.github.com/users/coatk1/gists{/gist_id}',\n",
       "  'starred_url': 'https://api.github.com/users/coatk1/starred{/owner}{/repo}',\n",
       "  'subscriptions_url': 'https://api.github.com/users/coatk1/subscriptions',\n",
       "  'organizations_url': 'https://api.github.com/users/coatk1/orgs',\n",
       "  'repos_url': 'https://api.github.com/users/coatk1/repos',\n",
       "  'events_url': 'https://api.github.com/users/coatk1/events{/privacy}',\n",
       "  'received_events_url': 'https://api.github.com/users/coatk1/received_events',\n",
       "  'type': 'User',\n",
       "  'site_admin': False},\n",
       " 'assignees': [{'login': 'coatk1',\n",
       "   'id': 26526811,\n",
       "   'node_id': 'MDQ6VXNlcjI2NTI2ODEx',\n",
       "   'avatar_url': 'https://avatars.githubusercontent.com/u/26526811?v=4',\n",
       "   'gravatar_id': '',\n",
       "   'url': 'https://api.github.com/users/coatk1',\n",
       "   'html_url': 'https://github.com/coatk1',\n",
       "   'followers_url': 'https://api.github.com/users/coatk1/followers',\n",
       "   'following_url': 'https://api.github.com/users/coatk1/following{/other_user}',\n",
       "   'gists_url': 'https://api.github.com/users/coatk1/gists{/gist_id}',\n",
       "   'starred_url': 'https://api.github.com/users/coatk1/starred{/owner}{/repo}',\n",
       "   'subscriptions_url': 'https://api.github.com/users/coatk1/subscriptions',\n",
       "   'organizations_url': 'https://api.github.com/users/coatk1/orgs',\n",
       "   'repos_url': 'https://api.github.com/users/coatk1/repos',\n",
       "   'events_url': 'https://api.github.com/users/coatk1/events{/privacy}',\n",
       "   'received_events_url': 'https://api.github.com/users/coatk1/received_events',\n",
       "   'type': 'User',\n",
       "   'site_admin': False}],\n",
       " 'milestone': None,\n",
       " 'comments': 0,\n",
       " 'created_at': '2020-03-29T20:47:32Z',\n",
       " 'updated_at': '2021-02-02T21:44:42Z',\n",
       " 'closed_at': None,\n",
       " 'author_association': 'OWNER',\n",
       " 'active_lock_reason': None,\n",
       " 'body': \"**Is your feature request related to a problem? Please describe.**\\r\\nA clear and concise description of what the problem is. Ex. I'm always frustrated when [...]\\r\\n\\r\\n**Describe the solution you'd like**\\r\\nA clear and concise description of what you want to happen.\\r\\n\\r\\n**Describe alternatives you've considered**\\r\\nA clear and concise description of any alternative solutions or features you've considered.\\r\\n\\r\\n**Additional context**\\r\\n\\r\\nRequests\\r\\n- [x] https://requests.readthedocs.io/en/master/\\r\\n\\r\\n- [x] https://realpython.com/python-requests/\\r\\n\\r\\n- [x] https://www.geeksforgeeks.org/get-post-requests-using-python/\\r\\n\\r\\n- [x] https://www.dataquest.io/blog/python-api-tutorial/\\r\\n\\r\\n- [x] https://www.tutorialspoint.com/requests/index.htm\\r\\n\\r\\nMarvel\\r\\n- [ ] https://github.com/gpennington/PyMarvel\\r\\n\\r\\n- [ ] https://github.com/wrap-away/Marvel-API\",\n",
       " 'closed_by': None,\n",
       " 'performed_via_github_app': None}"
      ]
     },
     "execution_count": 77,
     "metadata": {},
     "output_type": "execute_result"
    }
   ],
   "source": [
    "issue"
   ]
  },
  {
   "cell_type": "code",
   "execution_count": 78,
   "metadata": {},
   "outputs": [],
   "source": [
    "r = requests.get(r.url + '/comments')"
   ]
  },
  {
   "cell_type": "code",
   "execution_count": 79,
   "metadata": {},
   "outputs": [
    {
     "data": {
      "text/plain": [
       "[]"
      ]
     },
     "execution_count": 79,
     "metadata": {},
     "output_type": "execute_result"
    }
   ],
   "source": [
    "r.json()"
   ]
  },
  {
   "cell_type": "code",
   "execution_count": 80,
   "metadata": {},
   "outputs": [
    {
     "data": {
      "text/plain": [
       "200"
      ]
     },
     "execution_count": 80,
     "metadata": {},
     "output_type": "execute_result"
    }
   ],
   "source": [
    "r.status_code"
   ]
  },
  {
   "cell_type": "code",
   "execution_count": 81,
   "metadata": {},
   "outputs": [
    {
     "name": "stdout",
     "output_type": "stream",
     "text": [
      "········\n"
     ]
    },
    {
     "data": {
      "text/plain": [
       "{'message': 'Requires authentication',\n",
       " 'documentation_url': 'https://docs.github.com/rest/reference/issues#create-an-issue-comment'}"
      ]
     },
     "execution_count": 81,
     "metadata": {},
     "output_type": "execute_result"
    }
   ],
   "source": [
    "# Send comment on GitHub Issue #15 through a POST.\n",
    "\n",
    "url = u\"https://api.github.com/repos/coatk1/playground/issues/15/comments\"\n",
    "body = json.dumps({u\"body\": u\"Sounds great! I'll get right on it!\"})\n",
    "# auth = HTTPBasicAuth('coatk1', getpass())\n",
    "\n",
    "r = requests.post(url=url, data=body, auth=('coatk1', getpass()))\n",
    "r.json()"
   ]
  },
  {
   "cell_type": "code",
   "execution_count": 82,
   "metadata": {},
   "outputs": [
    {
     "data": {
      "text/plain": [
       "401"
      ]
     },
     "execution_count": 82,
     "metadata": {},
     "output_type": "execute_result"
    }
   ],
   "source": [
    "r.status_code"
   ]
  },
  {
   "cell_type": "code",
   "execution_count": null,
   "metadata": {},
   "outputs": [],
   "source": []
  }
 ],
 "metadata": {
  "kernelspec": {
   "display_name": "Python 3",
   "language": "python",
   "name": "python3"
  },
  "language_info": {
   "codemirror_mode": {
    "name": "ipython",
    "version": 3
   },
   "file_extension": ".py",
   "mimetype": "text/x-python",
   "name": "python",
   "nbconvert_exporter": "python",
   "pygments_lexer": "ipython3",
   "version": "3.7.6"
  }
 },
 "nbformat": 4,
 "nbformat_minor": 4
}
