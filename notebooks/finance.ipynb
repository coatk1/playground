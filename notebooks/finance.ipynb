{
 "cells": [
  {
   "cell_type": "markdown",
   "metadata": {},
   "source": [
    "# Equations\n",
    "\n",
    "Written by DataCamp\n",
    "\n",
    "**Return on Investment**\n",
    "\n",
    "`gain_percentage = (final_investment - initial_investment) / initial_investment * 100`\n",
    "\n",
    "`dollar_value = initial_investment * (1 + rate)`\n",
    "\n",
    "**Cumulative Growth/Depreciation**\n",
    "\n",
    "`growth = initial_investment * (1 + rate)**time`\n",
    "\n",
    "`depreciation = initial_investment * (1 - rate)**time`\n",
    "\n",
    "**Discount Factor** \n",
    "\n",
    "`discount_factor = 1 / ((1 + depreciation_rate)**time)`\n",
    "\n",
    "`initial_investment = future_value * discount_factor`\n",
    "\n",
    "**Compound Interest** \n",
    "\n",
    "`investment_value = initial_investment * (1 + (rate / comp_pd_yr))**(time * comp_pd_yr)`"
   ]
  },
  {
   "cell_type": "markdown",
   "metadata": {},
   "source": [
    "# Numpy Methods\n",
    "\n",
    "**Present/Future Value**\n",
    "\n",
    "`np.pv(rate, nper, pmt, fv)`\n",
    "\n",
    "`np.fv(rate, nper, pmt, pv)`\n",
    "\n",
    "**Net Present Value/Cash Flow**: projects must be of same length and size\n",
    "\n",
    "`np.npv(rate, values=np.array)`\n",
    "\n",
    "**Internal Rate of Return**: projects can be of different lengths and sizes\n",
    "\n",
    "`np.irr(np.array)`\n",
    "\n",
    "**Weighted Average Cost of Capital** \n",
    "\n",
    "`wacc = (percent_equity * cost_equity) + (percent_debt * cost_debt) * (1 - tax_rate)`\n",
    "\n",
    "**Equivalent Annual Annuity**: compare different projects lifespans in present value\n",
    "\n",
    "`np.pmt(rate, nper, pv=-1 * npv_project_num, fv)`\n",
    "\n",
    "**Mortgage** \n",
    "\n",
    "`periodic_rate = ((1 + annual_rate)**(1 / num_payments) - 1)`\n",
    "\n",
    "`np.pmt(rate, nper, pv)`\n",
    "\n",
    "**Amortization**\n",
    "\n",
    "`interest_payment = remain_mortgage_balance ∗ mortgage_interest_rate`\n",
    "\n",
    "`principal_payment = mortgage_payment − interest_payment`\n",
    "\n",
    "**Forecasting Growth**\n",
    "\n",
    "`np.cumsum(np.array)`\n",
    "\n",
    "`np.cumprod(np.array)`"
   ]
  },
  {
   "cell_type": "code",
   "execution_count": null,
   "metadata": {},
   "outputs": [],
   "source": []
  }
 ],
 "metadata": {
  "kernelspec": {
   "display_name": "Python 3",
   "language": "python",
   "name": "python3"
  },
  "language_info": {
   "codemirror_mode": {
    "name": "ipython",
    "version": 3
   },
   "file_extension": ".py",
   "mimetype": "text/x-python",
   "name": "python",
   "nbconvert_exporter": "python",
   "pygments_lexer": "ipython3",
   "version": "3.7.6"
  }
 },
 "nbformat": 4,
 "nbformat_minor": 2
}
