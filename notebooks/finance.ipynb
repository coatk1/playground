{
 "cells": [
  {
   "cell_type": "markdown",
   "metadata": {},
   "source": [
    "# Equations\n",
    "\n",
    "Written by DataCamp\n",
    "\n",
    "**Return on Investment**\n",
    "\n",
    "`gain_percentage = (final_investment - initial_investment) / initial_investment * 100`\n",
    "\n",
    "`dollar_value = initial_investment * (1 + rate)`\n",
    "\n",
    "**Cumulative Growth/Depreciation**\n",
    "\n",
    "`growth = initial_investment * (1 + rate)**time`\n",
    "\n",
    "`depreciation = initial_investment * (1 - rate)**time`\n",
    "\n",
    "**Discount Factor** \n",
    "\n",
    "`discount_factor = 1 / ((1 + depreciation_rate)**time)`\n",
    "\n",
    "`initial_investment = future_value * discount_factor`\n",
    "\n",
    "**Compound Interest** \n",
    "\n",
    "`investment_value = initial_investment * (1 + (rate / comp_pd_yr))**(time * comp_pd_yr)`"
   ]
  },
  {
   "cell_type": "markdown",
   "metadata": {},
   "source": [
    "# Numpy Methods\n",
    "\n",
    "**Present/Future Value**\n",
    "\n",
    "Results are negative so set fv/pv to -1\n",
    "\n",
    "`np.pv(rate, nper, pmt, fv)`\n",
    "\n",
    "`np.fv(rate, nper, pmt, pv)`\n",
    "\n",
    "**Net Present Value/Cash Flow**: projects must be of same length and size\n",
    "\n",
    "`np.npv(rate, values=np.array)`\n",
    "\n",
    "**Internal Rate of Return**: projects can be of different lengths and sizes\n",
    "\n",
    "`np.irr(np.array)`\n",
    "\n",
    "**Weighted Average Cost of Capital** \n",
    "\n",
    "`wacc = (percent_equity * cost_equity) + (percent_debt * cost_debt) * (1 - tax_rate)`\n",
    "\n",
    "**Equivalent Annual Annuity**: compare different projects lifespans in present value\n",
    "\n",
    "Results are negative so set fv to -1\n",
    "\n",
    "`np.pmt(rate, nper, pv=-1 * npv_project_num, fv)`\n",
    "\n",
    "**Mortgage** \n",
    "\n",
    "`periodic_rate = ((1 + annual_rate)**(1 / num_payments) - 1)`\n",
    "\n",
    "Results are negative so set pv to -1\n",
    "\n",
    "`np.pmt(rate, nper, pv)`\n",
    "\n",
    "**Amortization**\n",
    "\n",
    "`interest_payment = remain_mortgage_balance ∗ mortgage_interest_rate`\n",
    "\n",
    "`principal_payment = mortgage_payment − interest_payment`\n",
    "\n",
    "**Forecasting Growth**\n",
    "\n",
    "`np.cumsum(np.array)`\n",
    "\n",
    "`np.cumprod(np.array)`"
   ]
  },
  {
   "cell_type": "code",
   "execution_count": 1,
   "metadata": {},
   "outputs": [],
   "source": [
    "import numpy as np"
   ]
  },
  {
   "cell_type": "code",
   "execution_count": 2,
   "metadata": {},
   "outputs": [
    {
     "data": {
      "text/plain": [
       "9943.1287648"
      ]
     },
     "execution_count": 2,
     "metadata": {},
     "output_type": "execute_result"
    }
   ],
   "source": [
    "# Depreciation\n",
    "car_price = 11000\n",
    "growth_rate = -0.02\n",
    "growth_periods = 5\n",
    "\n",
    "np.fv(rate=growth_rate, nper=growth_periods, pmt=0, pv=-car_price)"
   ]
  },
  {
   "cell_type": "code",
   "execution_count": 3,
   "metadata": {},
   "outputs": [
    {
     "data": {
      "text/plain": [
       "734.6640384000003"
      ]
     },
     "execution_count": 3,
     "metadata": {},
     "output_type": "execute_result"
    }
   ],
   "source": [
    "# Growth\n",
    "init = 500\n",
    "growth_rate = .08\n",
    "growth_periods = 5\n",
    "\n",
    "investment = np.fv(rate=growth_rate, nper=growth_periods, pmt=0, pv=-init)\n",
    "investment"
   ]
  },
  {
   "cell_type": "code",
   "execution_count": 4,
   "metadata": {},
   "outputs": [
    {
     "data": {
      "text/plain": [
       "851.6769730376601"
      ]
     },
     "execution_count": 4,
     "metadata": {},
     "output_type": "execute_result"
    }
   ],
   "source": [
    "# Inflation\n",
    "np.fv(rate=0.03, nper=growth_periods, pmt=0, pv=-investment)"
   ]
  },
  {
   "cell_type": "code",
   "execution_count": 5,
   "metadata": {},
   "outputs": [
    {
     "data": {
      "text/plain": [
       "41.13959845414271"
      ]
     },
     "execution_count": 5,
     "metadata": {},
     "output_type": "execute_result"
    }
   ],
   "source": [
    "# Cash Flow\n",
    "first_quarter = [50, 20, -30]\n",
    "np.npv(rate=0.03, values=np.array(first_quarter))"
   ]
  },
  {
   "cell_type": "code",
   "execution_count": 6,
   "metadata": {},
   "outputs": [
    {
     "data": {
      "text/plain": [
       "11900.000000000002"
      ]
     },
     "execution_count": 6,
     "metadata": {},
     "output_type": "execute_result"
    }
   ],
   "source": [
    "# Mortgage\n",
    "home_value = 340000\n",
    "down_payment_percentage = 0.035\n",
    "\n",
    "down_payment = home_value * down_payment_percentage\n",
    "down_payment"
   ]
  },
  {
   "cell_type": "code",
   "execution_count": 7,
   "metadata": {},
   "outputs": [
    {
     "data": {
      "text/plain": [
       "328100.0"
      ]
     },
     "execution_count": 7,
     "metadata": {},
     "output_type": "execute_result"
    }
   ],
   "source": [
    "mortgage_loan = home_value - down_payment\n",
    "mortgage_loan"
   ]
  },
  {
   "cell_type": "code",
   "execution_count": 8,
   "metadata": {},
   "outputs": [
    {
     "data": {
      "text/plain": [
       "0.004989516021017826"
      ]
     },
     "execution_count": 8,
     "metadata": {},
     "output_type": "execute_result"
    }
   ],
   "source": [
    "annual_rate = 5\n",
    "num_payments = 12 * 30\n",
    "\n",
    "mortgage_rate_pd = ((1 + annual_rate)**(1 / num_payments) - 1)\n",
    "mortgage_rate_pd"
   ]
  },
  {
   "cell_type": "code",
   "execution_count": 9,
   "metadata": {},
   "outputs": [
    {
     "data": {
      "text/plain": [
       "1964.4722477951518"
      ]
     },
     "execution_count": 9,
     "metadata": {},
     "output_type": "execute_result"
    }
   ],
   "source": [
    "np.pmt(rate=mortgage_rate_pd, nper=num_payments, pv=-mortgage_loan)"
   ]
  },
  {
   "cell_type": "markdown",
   "metadata": {},
   "source": [
    "# Budget"
   ]
  },
  {
   "cell_type": "code",
   "execution_count": 10,
   "metadata": {},
   "outputs": [
    {
     "data": {
      "text/plain": [
       "39000.0"
      ]
     },
     "execution_count": 10,
     "metadata": {},
     "output_type": "execute_result"
    }
   ],
   "source": [
    "salary = 50000\n",
    "tax_rate = 0.22\n",
    "\n",
    "salary_after_tax = salary * (1-tax_rate)\n",
    "#salary_after_tax = salary - (salary * tax_rate)\n",
    "\n",
    "salary_after_tax"
   ]
  },
  {
   "cell_type": "code",
   "execution_count": 11,
   "metadata": {},
   "outputs": [
    {
     "data": {
      "text/plain": [
       "3250.0"
      ]
     },
     "execution_count": 11,
     "metadata": {},
     "output_type": "execute_result"
    }
   ],
   "source": [
    "monthly_after_tax = salary_after_tax / 12\n",
    "monthly_after_tax"
   ]
  },
  {
   "cell_type": "code",
   "execution_count": 12,
   "metadata": {},
   "outputs": [
    {
     "data": {
      "text/plain": [
       "3208.3333333333335"
      ]
     },
     "execution_count": 12,
     "metadata": {},
     "output_type": "execute_result"
    }
   ],
   "source": [
    "# Monthly Expenses\n",
    "rent = (salary * .25) / 12\n",
    "food = 300\n",
    "ent = 200\n",
    "emergency = (salary * .20) / 12\n",
    "retirement = (salary * .20) / 12\n",
    "\n",
    "expenses = sum([rent, food, ent, emergency, retirement])\n",
    "expenses"
   ]
  },
  {
   "cell_type": "code",
   "execution_count": 13,
   "metadata": {},
   "outputs": [
    {
     "data": {
      "text/plain": [
       "41.666666666666515"
      ]
     },
     "execution_count": 13,
     "metadata": {},
     "output_type": "execute_result"
    }
   ],
   "source": [
    "monthly_after_tax - expenses"
   ]
  },
  {
   "cell_type": "code",
   "execution_count": null,
   "metadata": {},
   "outputs": [],
   "source": []
  }
 ],
 "metadata": {
  "kernelspec": {
   "display_name": "Python 3",
   "language": "python",
   "name": "python3"
  },
  "language_info": {
   "codemirror_mode": {
    "name": "ipython",
    "version": 3
   },
   "file_extension": ".py",
   "mimetype": "text/x-python",
   "name": "python",
   "nbconvert_exporter": "python",
   "pygments_lexer": "ipython3",
   "version": "3.7.6"
  }
 },
 "nbformat": 4,
 "nbformat_minor": 2
}
